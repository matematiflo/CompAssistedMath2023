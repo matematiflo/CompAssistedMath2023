{
 "cells": [
  {
   "cell_type": "code",
   "execution_count": null,
   "metadata": {
    "collapsed": false,
    "jupyter": {
     "outputs_hidden": false
    }
   },
   "outputs": [],
   "source": []
  },
  {
   "cell_type": "code",
   "execution_count": 1,
   "metadata": {
    "collapsed": false,
    "jupyter": {
     "outputs_hidden": false
    }
   },
   "outputs": [],
   "source": [
    "from IPython.display import Latex as tex"
   ]
  },
  {
   "cell_type": "markdown",
   "metadata": {},
   "source": [
    "# Project: Gram\\-Schmidt algorithm\n",
    "\n"
   ]
  },
  {
   "cell_type": "markdown",
   "metadata": {},
   "source": [
    "In this project, we will go into the basics of the Gram\\-Schmidt algorithm and also give you a piece of code which computes an orthonormal basis for you, so you don't have to do it anymore \\(by hand at least\\).\n"
   ]
  },
  {
   "cell_type": "markdown",
   "metadata": {},
   "source": [
    "First of all, lets define the basis that we are given:\n"
   ]
  },
  {
   "cell_type": "code",
   "execution_count": 2,
   "metadata": {
    "collapsed": false,
    "jupyter": {
     "outputs_hidden": false
    }
   },
   "outputs": [],
   "source": [
    "B = Matrix(QQ,[[1,1,1],[2,1,0],[5,1,3]])                        #Type basis in the form of [x1, x2, x3]\n",
    "G=B.transpose()\n"
   ]
  },
  {
   "cell_type": "code",
   "execution_count": 3,
   "metadata": {
    "collapsed": false,
    "jupyter": {
     "outputs_hidden": false
    }
   },
   "outputs": [
    {
     "data": {
      "text/latex": [
       " $$ B = (b_1, b_2, b_3) = (\\left(1,\\,1,\\,1\\right), \\left(2,\\,1,\\,0\\right), \\left(5,\\,1,\\,3\\right))^T = \\left(\\begin{array}{rrr}\n",
       "1 & 2 & 5 \\\\\n",
       "1 & 1 & 1 \\\\\n",
       "1 & 0 & 3\n",
       "\\end{array}\\right) $$ "
      ],
      "text/plain": [
       "<IPython.core.display.Latex object>"
      ]
     },
     "execution_count": 3,
     "metadata": {},
     "output_type": "execute_result"
    }
   ],
   "source": [
    "tex( f\" $$ B = (b_1, b_2, b_3) = ({latex(B[0])}, {latex(B[1])}, {latex(B[2])})^T = {latex(G)} $$ \" )"
   ]
  },
  {
   "cell_type": "markdown",
   "metadata": {},
   "source": [
    "So in this example, the columns of the matrix equal the basis that we are given. In this case, we decided to use a basis in $\\mathbb{R}^3$, you can use a basis of any length, don't worry.\n"
   ]
  },
  {
   "cell_type": "markdown",
   "metadata": {},
   "source": [
    "\\begin{pmatrix}\n",
    "b_1 & b_2 & b_3  \\\\\n",
    "\\end{pmatrix}\n",
    "\n"
   ]
  },
  {
   "cell_type": "markdown",
   "metadata": {},
   "source": [
    "Next, we need to include a function that gives us the orthogonal projection of a vector, just so we can simplify the Gram\\-Schmidt algorithm \\(imagine doing the algorithm for R^300\\)...\n"
   ]
  },
  {
   "cell_type": "code",
   "execution_count": 4,
   "metadata": {
    "collapsed": false,
    "jupyter": {
     "outputs_hidden": false
    }
   },
   "outputs": [],
   "source": [
    "#\n",
    "def projection(v,w):\n",
    "    pV =(v.dot_product(w)/norm(w)^2)*w   #Formula for the orthogonal projection\n",
    "    return (pV)\n",
    "#"
   ]
  },
  {
   "cell_type": "markdown",
   "metadata": {},
   "source": [
    "So basically we have everything we need to write the Gram\\-Schmidt algorithm in Sage, we just need to find a simple way to calculate a basis of any length.\n"
   ]
  },
  {
   "cell_type": "code",
   "execution_count": 5,
   "metadata": {
    "collapsed": false,
    "jupyter": {
     "outputs_hidden": false
    }
   },
   "outputs": [],
   "source": [
    "#\n",
    "def Gram_Schmidt(M):\n",
    "    length = M.nrows() \n",
    "    E =[ M[0]/ norm(M[0]) ]                                         #We use the first basis vector, normalize it and add it into our final matrix\n",
    "    for i in range (1 , length ) :                                  #We start at 0 in the line before, thats why our algorithm starts at 1\n",
    "        q = M[i] - sum([ projection(M[i], E[j]) for j in range(i) ]) #Subtract the orthogonal projection of the remaining vectors\n",
    "        E.append(q / norm(q))                                       #Normalize the orthogonal vector from the step before and add it into the matrix\n",
    "        \n",
    "    return E #Return the final matrix\n",
    "#"
   ]
  },
  {
   "cell_type": "markdown",
   "metadata": {},
   "source": [
    "So now that we have finalized our algorithm, we can finish with an example:\n"
   ]
  },
  {
   "cell_type": "markdown",
   "metadata": {},
   "source": [
    "Let us look at the basis of the beginning again:\n"
   ]
  },
  {
   "cell_type": "code",
   "execution_count": 6,
   "metadata": {
    "collapsed": false,
    "jupyter": {
     "outputs_hidden": false
    }
   },
   "outputs": [
    {
     "data": {
      "text/latex": [
       " $$ \\left(\\begin{array}{rrr}\n",
       "1 & 2 & 5 \\\\\n",
       "1 & 1 & 1 \\\\\n",
       "1 & 0 & 3\n",
       "\\end{array}\\right) $$ "
      ],
      "text/plain": [
       "<IPython.core.display.Latex object>"
      ]
     },
     "execution_count": 6,
     "metadata": {},
     "output_type": "execute_result"
    }
   ],
   "source": [
    " tex( f\" $$ {latex(G)} $$ \" )"
   ]
  },
  {
   "cell_type": "code",
   "execution_count": 27,
   "metadata": {
    "collapsed": false,
    "jupyter": {
     "outputs_hidden": false
    }
   },
   "outputs": [],
   "source": [
    "ONB = Gram_Schmidt(B)                          #Calculate the basis that has been given in the beginning of the presentation\n",
    "ONB_matrix = matrix(ONB).transpose()           #We need to transpose the matrix, so the new orthonormal vectors appear in columns and not in rows"
   ]
  },
  {
   "cell_type": "markdown",
   "metadata": {},
   "source": [
    "After calculating with the algorithm the following matrix would be our answer:\n"
   ]
  },
  {
   "cell_type": "code",
   "execution_count": 29,
   "metadata": {
    "collapsed": false,
    "jupyter": {
     "outputs_hidden": false
    }
   },
   "outputs": [
    {
     "data": {
      "text/latex": [
       " $$ \\left(\\begin{array}{rrr}\n",
       "\\frac{1}{3} \\, \\sqrt{3} & \\frac{1}{2} \\, \\sqrt{2} & \\frac{1}{6} \\, \\sqrt{6} \\\\\n",
       "\\frac{1}{3} \\, \\sqrt{3} & 0 & -\\frac{1}{3} \\, \\sqrt{6} \\\\\n",
       "\\frac{1}{3} \\, \\sqrt{3} & -\\frac{1}{2} \\, \\sqrt{2} & \\frac{1}{6} \\, \\sqrt{6}\n",
       "\\end{array}\\right) $$ "
      ],
      "text/plain": [
       "<IPython.core.display.Latex object>"
      ]
     },
     "execution_count": 29,
     "metadata": {},
     "output_type": "execute_result"
    }
   ],
   "source": [
    "tex( f\" $$ {latex(ONB_matrix)} $$ \" )"
   ]
  },
  {
   "cell_type": "code",
   "execution_count": null,
   "metadata": {
    "collapsed": false,
    "jupyter": {
     "outputs_hidden": false
    }
   },
   "outputs": [],
   "source": []
  },
  {
   "cell_type": "code",
   "execution_count": null,
   "metadata": {
    "collapsed": false,
    "jupyter": {
     "outputs_hidden": false
    }
   },
   "outputs": [],
   "source": []
  },
  {
   "cell_type": "code",
   "execution_count": null,
   "metadata": {
    "collapsed": false,
    "jupyter": {
     "outputs_hidden": false
    }
   },
   "outputs": [],
   "source": []
  }
 ],
 "metadata": {
  "kernelspec": {
   "display_name": "Python 3 (ipykernel)",
   "language": "python",
   "name": "python3"
  },
  "language_info": {
   "codemirror_mode": {
    "name": "ipython",
    "version": 3
   },
   "file_extension": ".py",
   "mimetype": "text/x-python",
   "name": "python",
   "nbconvert_exporter": "python",
   "pygments_lexer": "ipython3",
   "version": "3.11.2"
  }
 },
 "nbformat": 4,
 "nbformat_minor": 4
}
