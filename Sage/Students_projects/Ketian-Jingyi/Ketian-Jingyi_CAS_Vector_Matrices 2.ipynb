{
 "cells": [
  {
   "cell_type": "markdown",
   "metadata": {
    "collapsed": false
   },
   "source": [
    "_**Computer algebra systems and Representations of vectors and matrices in python**_\n"
   ]
  },
  {
   "cell_type": "markdown",
   "metadata": {
    "collapsed": false
   },
   "source": [
    "**1. Short introduction：** \n",
    "\n",
    "A computer algebra system \\(CAS\\) is any mathematical software \n",
    "\n",
    "that can process mathematical expressions in a manner like \n",
    "\n",
    "traditional manual calculations by mathematicians and scientists.\n",
    "\n"
   ]
  },
  {
   "cell_type": "markdown",
   "metadata": {
    "collapsed": false
   },
   "source": [
    "**2. Application field：**\n",
    "\n",
    "1. Symbolic calculations and exact results\n",
    "\n",
    "2. Equation solving and analytical calculations\n",
    "\n",
    "3. Mathematical Derivation and Proof\n",
    "\n",
    "4. Multi\\-field application\n"
   ]
  },
  {
   "cell_type": "markdown",
   "metadata": {
    "collapsed": false
   },
   "source": [
    "**3. Vector representation:** \n",
    "\n",
    "1. Array\n",
    "\n",
    "2. List:\n",
    "\n",
    "3. Specialized Vector Data Types\n",
    "\n"
   ]
  },
  {
   "cell_type": "markdown",
   "metadata": {
    "collapsed": false
   },
   "source": [
    "**Vector in python**\n"
   ]
  },
  {
   "cell_type": "code",
   "execution_count": 11,
   "metadata": {
    "collapsed": false
   },
   "outputs": [
    {
     "name": "stdout",
     "output_type": "stream",
     "text": [
      "[1 2 3]\n"
     ]
    }
   ],
   "source": [
    "#define and show horizontal vector\n",
    "import numpy as np\n",
    "list1 =  [1,2,3]\n",
    "vector1 = np.array(list1)\n",
    "print(vector1)"
   ]
  },
  {
   "cell_type": "code",
   "execution_count": 10,
   "metadata": {
    "collapsed": false
   },
   "outputs": [
    {
     "name": "stdout",
     "output_type": "stream",
     "text": [
      "[[10]\n",
      " [20]\n",
      " [30]]\n"
     ]
    }
   ],
   "source": [
    "#define and show vertical vector\n",
    "import numpy as np\n",
    "list2 = [[10],\n",
    "      [20],\n",
    "      [30]]\n",
    "vector2 = np.array(list2)\n",
    "print(vector2)"
   ]
  },
  {
   "cell_type": "code",
   "execution_count": 12,
   "metadata": {
    "collapsed": false
   },
   "outputs": [
    {
     "name": "stdout",
     "output_type": "stream",
     "text": [
      "Vector Addition: [ 6  8 12]\n"
     ]
    }
   ],
   "source": [
    "#Vector addition\n",
    "import numpy as np\n",
    "list1 = [5, 6, 9]\n",
    "list2 = [1, 2, 3]\n",
    "vector1 = np.array(list1)\n",
    "vector2 = np.array(list2)\n",
    "addition = vector1 + vector2\n",
    "print(\"Vector Addition: \" + str(addition))"
   ]
  },
  {
   "cell_type": "code",
   "execution_count": 14,
   "metadata": {
    "collapsed": false
   },
   "outputs": [
    {
     "name": "stdout",
     "output_type": "stream",
     "text": [
      "Vector subtraction:[4 4 6]\n"
     ]
    }
   ],
   "source": [
    "#Vector subtraction\n",
    "import numpy as np\n",
    "list1 = [5, 6, 9]\n",
    "list2 = [1, 2, 3]\n",
    "vector1 = np.array(list1)\n",
    "vector2 = np.array(list2)\n",
    "subtraction = vector1 - vector2\n",
    "print(\"Vector subtraction:\" + str(subtraction))"
   ]
  },
  {
   "cell_type": "code",
   "execution_count": 16,
   "metadata": {
    "collapsed": false
   },
   "outputs": [
    {
     "name": "stdout",
     "output_type": "stream",
     "text": [
      "Vector Multiplication:[ 5 12 27]\n"
     ]
    }
   ],
   "source": [
    "#Vector multiplication\n",
    "import numpy as np\n",
    "list1 = [5, 6, 9]\n",
    "list2 = [1, 2, 3]\n",
    "vector1 = np.array(list1)\n",
    "vector2 = np.array(list2)\n",
    "multiplication = vector1 * vector2\n",
    "print(\"Vector Multiplication:\"+ str(multiplication))"
   ]
  },
  {
   "cell_type": "code",
   "execution_count": 17,
   "metadata": {
    "collapsed": false
   },
   "outputs": [
    {
     "name": "stdout",
     "output_type": "stream",
     "text": [
      "Vector division:[5. 3. 3.]\n"
     ]
    }
   ],
   "source": [
    "#Vector division\n",
    "import numpy as np\n",
    "list1 = [5, 6, 9]\n",
    "list2 = [1, 2, 3]\n",
    "vector1 = np.array(list1)\n",
    "vector2 = np.array(list2)\n",
    "division = vector1 / vector2\n",
    "print(\"Vector division:\"+ str(division))"
   ]
  },
  {
   "cell_type": "code",
   "execution_count": 19,
   "metadata": {
    "collapsed": false
   },
   "outputs": [
    {
     "name": "stdout",
     "output_type": "stream",
     "text": [
      "Dot product of two vectors: 44\n"
     ]
    }
   ],
   "source": [
    "# Vector Dot product\n",
    "import numpy as np \n",
    "list1 = [5, 6, 9]\n",
    "list2 = [1, 2, 3]\n",
    "vector1 = np.array(list1)\n",
    "vector2 = np.array(list2)\n",
    "vctr_dot = vector1.dot(vector2)\n",
    "print(\"Dot product of two vectors: \"+str(vctr_dot))"
   ]
  },
  {
   "cell_type": "code",
   "execution_count": 23,
   "metadata": {
    "collapsed": false
   },
   "outputs": [
    {
     "name": "stdout",
     "output_type": "stream",
     "text": [
      "Vector scalar multiplication:[10 12 18]\n"
     ]
    }
   ],
   "source": [
    "# Vector scalar multiplication\n",
    "import numpy as np\n",
    "list1 = [5, 6, 9]\n",
    "vector1 = np.array(list1)\n",
    "scalar = 2\n",
    "print(\"Vector scalar multiplication:\"+ str(scalar * vector1))"
   ]
  },
  {
   "cell_type": "markdown",
   "metadata": {
    "collapsed": false
   },
   "source": [
    "**4. Matrices representation：**\n",
    "\n",
    "1. Array\n",
    "\n",
    "2. list nesting\n",
    "\n",
    "3. specialized array data structure\n"
   ]
  },
  {
   "cell_type": "markdown",
   "metadata": {
    "collapsed": false
   },
   "source": [
    "_**Matrices in Python**_\n"
   ]
  },
  {
   "cell_type": "code",
   "execution_count": 28,
   "metadata": {
    "collapsed": false
   },
   "outputs": [
    {
     "name": "stdout",
     "output_type": "stream",
     "text": [
      "[[5 6 9]\n",
      " [1 2 3]]\n"
     ]
    }
   ],
   "source": [
    "#Define Matrices\n",
    "import numpy as np\n",
    "list1 = [5, 6, 9]\n",
    "list2 = [1, 2, 3]\n",
    "matrix = np.array([list1,list2])\n",
    "print(matrix)"
   ]
  },
  {
   "cell_type": "code",
   "execution_count": 33,
   "metadata": {
    "collapsed": false
   },
   "outputs": [
    {
     "name": "stdout",
     "output_type": "stream",
     "text": [
      "6\n"
     ]
    }
   ],
   "source": [
    "# Accessing a specific element\n",
    "import numpy as np\n",
    "list1 = [5, 6, 9]\n",
    "list2 = [1, 2, 3]\n",
    "matrix1 = np.array([list1,list2])\n",
    "element = matrix[0, 1]  # Access the element in the first row and second column\n",
    "print(element)"
   ]
  },
  {
   "cell_type": "code",
   "execution_count": 0,
   "metadata": {
    "collapsed": false
   },
   "outputs": [
   ],
   "source": [
    "# Accessing a row or column\n",
    "import numpy as np\n",
    "list1 = [5, 6, 9]\n",
    "list2 = [1, 2, 3]\n",
    "matrix1 = np.array([list1,list2])\n",
    "row = matrix1[1, :]  # Access the entire second row\n",
    "column = matrix1[:, 2]  # Access the entire third column"
   ]
  },
  {
   "cell_type": "code",
   "execution_count": 30,
   "metadata": {
    "collapsed": false
   },
   "outputs": [
    {
     "name": "stdout",
     "output_type": "stream",
     "text": [
      "[[ 6  8 12]\n",
      " [ 5  7  9]]\n"
     ]
    }
   ],
   "source": [
    "# Matrix addition\n",
    "import numpy as np\n",
    "list1 = [5, 6, 9]\n",
    "list2 = [1, 2, 3]\n",
    "list3 = [4, 5, 6]\n",
    "matrix1 = np.array([list1,list2])\n",
    "matrix2 = np.array([list2,list3])\n",
    "print(matrix1+matrix2)"
   ]
  },
  {
   "cell_type": "code",
   "execution_count": 31,
   "metadata": {
    "collapsed": false
   },
   "outputs": [
    {
     "name": "stdout",
     "output_type": "stream",
     "text": [
      "[[ 4  4  6]\n",
      " [-3 -3 -3]]\n"
     ]
    }
   ],
   "source": [
    "# Matrix subtraction\n",
    "import numpy as np\n",
    "list1 = [5, 6, 9]\n",
    "list2 = [1, 2, 3]\n",
    "list3 = [4, 5, 6]\n",
    "matrix1 = np.array([list1,list2])\n",
    "matrix2 = np.array([list2,list3])\n",
    "print(matrix1-matrix2)"
   ]
  },
  {
   "cell_type": "code",
   "execution_count": 32,
   "metadata": {
    "collapsed": false
   },
   "outputs": [
    {
     "name": "stdout",
     "output_type": "stream",
     "text": [
      "[[ 5 12 27]\n",
      " [ 4 10 18]]\n"
     ]
    }
   ],
   "source": [
    "# Matrix multiplication\n",
    "import numpy as np\n",
    "list1 = [5, 6, 9]\n",
    "list2 = [1, 2, 3]\n",
    "list3 = [4, 5, 6]\n",
    "matrix1 = np.array([list1,list2])\n",
    "matrix2 = np.array([list2,list3])\n",
    "print(matrix1*matrix2)"
   ]
  },
  {
   "cell_type": "markdown",
   "metadata": {
    "collapsed": false
   },
   "source": [
    "**Gaussian elimination**\n"
   ]
  },
  {
   "cell_type": "code",
   "execution_count": 2,
   "metadata": {
    "collapsed": false
   },
   "outputs": [
    {
     "name": "stdout",
     "output_type": "stream",
     "text": [
      "The initial matrix is:\n",
      "[ 1.00  1.00  1.00  1.00  1.00 | 1.00 ] \n",
      "\n",
      "[ 3.00  2.00  1.00  1.00 -3.00 |25.00 ] \n",
      "\n",
      "[ 0.00  1.00  2.00  2.00  6.00 |-22.00 ] \n",
      "\n",
      "[ 5.00  4.00  3.00  3.00 -1.00 |27.00 ] \n",
      "\n",
      "[ 2.00 -1.00  0.00  3.00  2.00 | 2.00 ] \n",
      "\n",
      "The row echelon form matrix is：\n",
      "[ 1.00  1.00  1.00  1.00  1.00 | 1.00 ] \n",
      "\n",
      "[ 0.00 -1.00 -2.00 -2.00 -6.00 |22.00 ] \n",
      "\n",
      "[ 0.00  0.00  4.00  7.00 18.00 |-66.00 ] \n",
      "\n",
      "[ 0.00  0.00  0.00  0.00  0.00 | 0.00 ] \n",
      "\n",
      "[ 0.00  0.00  0.00  0.00  0.00 | 0.00 ] \n",
      "\n",
      "The equation has more that one solution.\n"
     ]
    }
   ],
   "source": [
    "import numpy as np\n",
    "\n",
    "def swag(a, b):\n",
    "    for i in range(0, len(a)):\n",
    "        t = a[i]\n",
    "        a[i] = b[i]\n",
    "        b[i] = t\n",
    "\n",
    "def print_matrix( info, matrix ):\n",
    "    print (info)\n",
    "    for i in range( 0, matrix.shape[0]):\n",
    "        print('[', end='')\n",
    "        for j in range( 0, matrix.shape[1]):\n",
    "            if(j == matrix.shape[1] - 1): \n",
    "                print( '|', end=''),                          \n",
    "            print(\"%5.2f\" %matrix[i][j], end=' ')\n",
    "            if j == matrix.shape[1] - 1:\n",
    "                print(']', end=' ')\n",
    "                print('\\n')\n",
    "\n",
    "def check(matrix, i, row, col):         \n",
    "    if 0.00 in set(matrix[i]) and len(set(matrix[i])) == 1:     \n",
    "        for j in range(row - 1, i ,-1):                        \n",
    "            try:\n",
    "                if not(0.00 in set(matrix[j]) and len(set(matrix[j])) == 1):    \n",
    "                    swag(matrix[i], matrix[j])                                 \n",
    "                    select(matrix, i, col)                                      \n",
    "                    break\n",
    "            except:                    \n",
    "                return\n",
    "\n",
    "def select(matrix, i, col):             \n",
    "    if 0.00 in set(matrix[i]) and len(set(matrix[i])) == 1:    \n",
    "        return\n",
    "    for k in range(0, i):                                       \n",
    "        temp = matrix[i][k] / matrix[k][k]                      \n",
    "        if temp == 0:                                           \n",
    "            continue\n",
    "        for j in range(0, col):                                 \n",
    "            matrix[i][j] = matrix[i][j] - matrix[k][j] * temp\n",
    "\n",
    "def solve(matrix):                      \n",
    "    row = matrix.shape[0]                       \n",
    "    col = matrix.shape[1]                       \n",
    "    for i in range(0, row):                     \n",
    "        if matrix[i][i] == 0:                   \n",
    "            for j in range(i + 1, row):\n",
    "                if matrix[j][i] != 0:\n",
    "                    swag(matrix[i], matrix[j])\n",
    "                    break\n",
    "        select(matrix, i, col)                  \n",
    "        check(matrix, i, row, col)              \n",
    "\n",
    "def to_one(matrix):                     \n",
    "    row = matrix.shape[0]\n",
    "    col = matrix.shape[1]\n",
    "    for i in range(0, row):                        \n",
    "        temp = matrix[i][i]\n",
    "        for j in range(i, col):\n",
    "            matrix[i][j] = matrix[i][j] / temp\n",
    "    for i in range(0, row - 1):                    \n",
    "        for j in range(i + 1, col - 1):            \n",
    "            temp = matrix[i][j]                    \n",
    "            for k in range(j, col):                \n",
    "                matrix[i][k] = matrix[i][k] - matrix[j][k] * temp  \n",
    "\n",
    "def judge(matrix):                      \n",
    "    row = matrix.shape[0]\n",
    "    col = matrix.shape[1]\n",
    "    vanumlist = []\n",
    "    for i in range(0, col):             \n",
    "        if matrix[row - 1][i] != 0:\n",
    "            vanumlist.append(matrix[row - 1][i])    \n",
    "    if len(vanumlist) == 1:\n",
    "        print(\"The equation has no solution.\")\n",
    "    elif len(vanumlist) == 2:\n",
    "        to_one(matrix)                 \n",
    "        print_matrix('Simplify the matrix into row echelon form:', matrix)\n",
    "        for i in range(0, row):\n",
    "            print(\"x%d = %4.2f\" %(i,matrix[i][col - 1]), end=\"  \")\n",
    "    else:\n",
    "        print( 'The equation has more that one solution.')\n",
    "\n",
    "matrix = np.array([ [ 1, 1, 1, 1, 1,  1],\n",
    "                    [ 3, 2, 1, 1,-3, 25],\n",
    "                    [ 0, 1, 2, 2, 6,-22],\n",
    "                    [ 5, 4, 3, 3,-1, 27],\n",
    "                    [ 2,-1, 0, 3, 2,  2]\n",
    "                    ],dtype=float)\n",
    "# matrix = np.array([ [1,-2,3,-1,-1,2],\n",
    "#                     [1,1,-1,1,-2,1],\n",
    "#                     [2,-1,1,0,-2,1],\n",
    "#                     [2,2,-5,2,-1,5],\n",
    "#                     ],dtype=float)\n",
    "# matrix = np.array([ [2,3,11,5,2],\n",
    "#                     [1,1,5,2,1],\n",
    "#                     [2,1,3,2,-3],\n",
    "#                     [1,1,3,4,-3],\n",
    "#                     ],dtype=float)\n",
    "print_matrix('The initial matrix is:', matrix)\n",
    "solve(matrix)\n",
    "print_matrix('The row echelon form matrix is：', matrix)\n",
    "judge(matrix)"
   ]
  }
 ],
 "metadata": {
  "kernelspec": {
   "argv": [
    "/usr/bin/python3",
    "-m",
    "ipykernel",
    "--HistoryManager.enabled=False",
    "--matplotlib=inline",
    "-c",
    "%config InlineBackend.figure_formats = set(['retina'])\nimport matplotlib; matplotlib.rcParams['figure.figsize'] = (12, 7)",
    "-f",
    "{connection_file}"
   ],
   "display_name": "Python 3 (system-wide)",
   "env": {
   },
   "language": "python",
   "metadata": {
    "cocalc": {
     "description": "Python 3 programming language",
     "priority": 100,
     "url": "https://www.python.org/"
    }
   },
   "name": "python3",
   "resource_dir": "/ext/jupyter/kernels/python3"
  },
  "language_info": {
   "codemirror_mode": {
    "name": "ipython",
    "version": 3
   },
   "file_extension": ".py",
   "mimetype": "text/x-python",
   "name": "python",
   "nbconvert_exporter": "python",
   "pygments_lexer": "ipython3",
   "version": "3.10.6"
  }
 },
 "nbformat": 4,
 "nbformat_minor": 4
}