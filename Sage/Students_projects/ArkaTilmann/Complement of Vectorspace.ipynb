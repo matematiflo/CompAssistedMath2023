{
 "cells": [
  {
   "cell_type": "markdown",
   "metadata": {},
   "source": [
    "# User Input\n",
    "\n",
    "At first the user inputs the dimension of the vector space and a family of input vectors"
   ]
  },
  {
   "cell_type": "code",
   "execution_count": 1,
   "metadata": {
    "collapsed": false,
    "jupyter": {
     "outputs_hidden": false
    },
    "tags": []
   },
   "outputs": [],
   "source": [
    "n = 5"
   ]
  },
  {
   "cell_type": "code",
   "execution_count": 14,
   "metadata": {
    "collapsed": false,
    "jupyter": {
     "outputs_hidden": false
    },
    "tags": []
   },
   "outputs": [],
   "source": [
    "family = [column_matrix(QQ, [1, 2, 3, 4, 5]), column_matrix(QQ, [2, 40, 6, 8, 10]), column_matrix(QQ, [1, 2, 3, 4, 6]), column_matrix(QQ, [1, 0, 0, 0, 0]) ]"
   ]
  },
  {
   "cell_type": "code",
   "execution_count": 15,
   "metadata": {
    "collapsed": false,
    "jupyter": {
     "outputs_hidden": false
    },
    "tags": []
   },
   "outputs": [
    {
     "data": {
      "text/html": [
       "<html>\\(\\displaystyle \\left[\\left(\\begin{array}{r}\n",
       "1 \\\\\n",
       "2 \\\\\n",
       "3 \\\\\n",
       "4 \\\\\n",
       "5\n",
       "\\end{array}\\right), \\left(\\begin{array}{r}\n",
       "2 \\\\\n",
       "40 \\\\\n",
       "6 \\\\\n",
       "8 \\\\\n",
       "10\n",
       "\\end{array}\\right), \\left(\\begin{array}{r}\n",
       "1 \\\\\n",
       "2 \\\\\n",
       "3 \\\\\n",
       "4 \\\\\n",
       "6\n",
       "\\end{array}\\right), \\left(\\begin{array}{r}\n",
       "1 \\\\\n",
       "0 \\\\\n",
       "0 \\\\\n",
       "0 \\\\\n",
       "0\n",
       "\\end{array}\\right)\\right]\\)</html>"
      ],
      "text/latex": [
       "$\\displaystyle \\left[\\left(\\begin{array}{r}\n",
       "1 \\\\\n",
       "2 \\\\\n",
       "3 \\\\\n",
       "4 \\\\\n",
       "5\n",
       "\\end{array}\\right), \\left(\\begin{array}{r}\n",
       "2 \\\\\n",
       "40 \\\\\n",
       "6 \\\\\n",
       "8 \\\\\n",
       "10\n",
       "\\end{array}\\right), \\left(\\begin{array}{r}\n",
       "1 \\\\\n",
       "2 \\\\\n",
       "3 \\\\\n",
       "4 \\\\\n",
       "6\n",
       "\\end{array}\\right), \\left(\\begin{array}{r}\n",
       "1 \\\\\n",
       "0 \\\\\n",
       "0 \\\\\n",
       "0 \\\\\n",
       "0\n",
       "\\end{array}\\right)\\right]$"
      ],
      "text/plain": [
       "[\n",
       "[1]  [ 2]  [1]  [1]\n",
       "[2]  [40]  [2]  [0]\n",
       "[3]  [ 6]  [3]  [0]\n",
       "[4]  [ 8]  [4]  [0]\n",
       "[5], [10], [6], [0]\n",
       "]"
      ]
     },
     "metadata": {},
     "output_type": "display_data"
    }
   ],
   "source": [
    "show(family)"
   ]
  },
  {
   "cell_type": "markdown",
   "metadata": {},
   "source": [
    "# Calculation of the Complement"
   ]
  },
  {
   "cell_type": "code",
   "execution_count": 16,
   "metadata": {
    "collapsed": false,
    "jupyter": {
     "outputs_hidden": false
    },
    "tags": []
   },
   "outputs": [],
   "source": [
    "basis_F = []\n",
    "basis_F_C = []"
   ]
  },
  {
   "cell_type": "markdown",
   "metadata": {},
   "source": [
    "Put all the vectors in the family in a matrix"
   ]
  },
  {
   "cell_type": "code",
   "execution_count": 17,
   "metadata": {
    "collapsed": false,
    "jupyter": {
     "outputs_hidden": false
    },
    "tags": []
   },
   "outputs": [],
   "source": [
    "mat = matrix(QQ, family[0])\n",
    "for i in range(1, len(family)):\n",
    "    mat = mat.augment(family[i])"
   ]
  },
  {
   "cell_type": "markdown",
   "metadata": {},
   "source": [
    "Augments the matrix with the identity matrix. No it is guaranteed that the matrix contains all necessary basis vectors as coulumns"
   ]
  },
  {
   "cell_type": "code",
   "execution_count": 18,
   "metadata": {
    "collapsed": false,
    "jupyter": {
     "outputs_hidden": false
    },
    "tags": []
   },
   "outputs": [],
   "source": [
    "mat = mat.augment(identity_matrix(5), subdivide=True)"
   ]
  },
  {
   "cell_type": "code",
   "execution_count": 19,
   "metadata": {
    "collapsed": false,
    "jupyter": {
     "outputs_hidden": false
    },
    "tags": []
   },
   "outputs": [
    {
     "data": {
      "text/html": [
       "<html>\\(\\displaystyle \\left(\\begin{array}{rrrr|rrrrr}\n",
       "1 & 2 & 1 & 1 & 1 & 0 & 0 & 0 & 0 \\\\\n",
       "2 & 40 & 2 & 0 & 0 & 1 & 0 & 0 & 0 \\\\\n",
       "3 & 6 & 3 & 0 & 0 & 0 & 1 & 0 & 0 \\\\\n",
       "4 & 8 & 4 & 0 & 0 & 0 & 0 & 1 & 0 \\\\\n",
       "5 & 10 & 6 & 0 & 0 & 0 & 0 & 0 & 1\n",
       "\\end{array}\\right)\\)</html>"
      ],
      "text/latex": [
       "$\\displaystyle \\left(\\begin{array}{rrrr|rrrrr}\n",
       "1 & 2 & 1 & 1 & 1 & 0 & 0 & 0 & 0 \\\\\n",
       "2 & 40 & 2 & 0 & 0 & 1 & 0 & 0 & 0 \\\\\n",
       "3 & 6 & 3 & 0 & 0 & 0 & 1 & 0 & 0 \\\\\n",
       "4 & 8 & 4 & 0 & 0 & 0 & 0 & 1 & 0 \\\\\n",
       "5 & 10 & 6 & 0 & 0 & 0 & 0 & 0 & 1\n",
       "\\end{array}\\right)$"
      ],
      "text/plain": [
       "[ 1  2  1  1| 1  0  0  0  0]\n",
       "[ 2 40  2  0| 0  1  0  0  0]\n",
       "[ 3  6  3  0| 0  0  1  0  0]\n",
       "[ 4  8  4  0| 0  0  0  1  0]\n",
       "[ 5 10  6  0| 0  0  0  0  1]"
      ]
     },
     "metadata": {},
     "output_type": "display_data"
    }
   ],
   "source": [
    "show(mat)"
   ]
  },
  {
   "cell_type": "markdown",
   "metadata": {},
   "source": [
    "Calculate the echelon form of that matrix. The position of all basis vectors can now be read as the position of the pivot elements."
   ]
  },
  {
   "cell_type": "code",
   "execution_count": 20,
   "metadata": {
    "collapsed": false,
    "jupyter": {
     "outputs_hidden": false
    },
    "tags": []
   },
   "outputs": [],
   "source": [
    "echelon = mat.echelon_form()"
   ]
  },
  {
   "cell_type": "code",
   "execution_count": 21,
   "metadata": {
    "collapsed": false,
    "jupyter": {
     "outputs_hidden": false
    },
    "tags": []
   },
   "outputs": [
    {
     "data": {
      "text/html": [
       "<html>\\(\\displaystyle \\left(\\begin{array}{rrrr|rrrrr}\n",
       "1 & 0 & 0 & 0 & 0 & -\\frac{1}{18} & 0 & \\frac{55}{36} & -1 \\\\\n",
       "0 & 1 & 0 & 0 & 0 & \\frac{1}{36} & 0 & -\\frac{1}{72} & 0 \\\\\n",
       "0 & 0 & 1 & 0 & 0 & 0 & 0 & -\\frac{5}{4} & 1 \\\\\n",
       "0 & 0 & 0 & 1 & 1 & 0 & 0 & -\\frac{1}{4} & 0 \\\\\n",
       "0 & 0 & 0 & 0 & 0 & 0 & 1 & -\\frac{3}{4} & 0\n",
       "\\end{array}\\right)\\)</html>"
      ],
      "text/latex": [
       "$\\displaystyle \\left(\\begin{array}{rrrr|rrrrr}\n",
       "1 & 0 & 0 & 0 & 0 & -\\frac{1}{18} & 0 & \\frac{55}{36} & -1 \\\\\n",
       "0 & 1 & 0 & 0 & 0 & \\frac{1}{36} & 0 & -\\frac{1}{72} & 0 \\\\\n",
       "0 & 0 & 1 & 0 & 0 & 0 & 0 & -\\frac{5}{4} & 1 \\\\\n",
       "0 & 0 & 0 & 1 & 1 & 0 & 0 & -\\frac{1}{4} & 0 \\\\\n",
       "0 & 0 & 0 & 0 & 0 & 0 & 1 & -\\frac{3}{4} & 0\n",
       "\\end{array}\\right)$"
      ],
      "text/plain": [
       "[    1     0     0     0|    0 -1/18     0 55/36    -1]\n",
       "[    0     1     0     0|    0  1/36     0 -1/72     0]\n",
       "[    0     0     1     0|    0     0     0  -5/4     1]\n",
       "[    0     0     0     1|    1     0     0  -1/4     0]\n",
       "[    0     0     0     0|    0     0     1  -3/4     0]"
      ]
     },
     "metadata": {},
     "output_type": "display_data"
    }
   ],
   "source": [
    "show(echelon)"
   ]
  },
  {
   "cell_type": "markdown",
   "metadata": {},
   "source": [
    "Finds all the pivot elements; if it is a pivot element this vector is a basis vector of the given space and will be added to the list of basis vectors"
   ]
  },
  {
   "cell_type": "code",
   "execution_count": 22,
   "metadata": {
    "collapsed": false,
    "jupyter": {
     "outputs_hidden": false
    },
    "tags": []
   },
   "outputs": [],
   "source": [
    "c = 0\n",
    "    \n",
    "for i in range(len(family)+n):\n",
    "    #checks if pivot element\n",
    "    if(c<n and echelon[c, i]==1):\n",
    "        c = c+1\n",
    "        #checks if it is part of the given family of vectors; appends the vector to the according list\n",
    "        if(i<len(family)):\n",
    "            basis_F.append(mat[:, i])\n",
    "        else:\n",
    "            basis_F_C.append(mat[:, i])"
   ]
  },
  {
   "cell_type": "code",
   "execution_count": 23,
   "metadata": {
    "collapsed": false,
    "jupyter": {
     "outputs_hidden": false
    },
    "tags": []
   },
   "outputs": [
    {
     "data": {
      "text/html": [
       "<html>\\(\\displaystyle \\left[\\left(\\begin{array}{r}\n",
       "1 \\\\\n",
       "2 \\\\\n",
       "3 \\\\\n",
       "4 \\\\\n",
       "5\n",
       "\\end{array}\\right), \\left(\\begin{array}{r}\n",
       "2 \\\\\n",
       "40 \\\\\n",
       "6 \\\\\n",
       "8 \\\\\n",
       "10\n",
       "\\end{array}\\right), \\left(\\begin{array}{r}\n",
       "1 \\\\\n",
       "2 \\\\\n",
       "3 \\\\\n",
       "4 \\\\\n",
       "6\n",
       "\\end{array}\\right), \\left(\\begin{array}{r}\n",
       "1 \\\\\n",
       "0 \\\\\n",
       "0 \\\\\n",
       "0 \\\\\n",
       "0\n",
       "\\end{array}\\right)\\right]\\)</html>"
      ],
      "text/latex": [
       "$\\displaystyle \\left[\\left(\\begin{array}{r}\n",
       "1 \\\\\n",
       "2 \\\\\n",
       "3 \\\\\n",
       "4 \\\\\n",
       "5\n",
       "\\end{array}\\right), \\left(\\begin{array}{r}\n",
       "2 \\\\\n",
       "40 \\\\\n",
       "6 \\\\\n",
       "8 \\\\\n",
       "10\n",
       "\\end{array}\\right), \\left(\\begin{array}{r}\n",
       "1 \\\\\n",
       "2 \\\\\n",
       "3 \\\\\n",
       "4 \\\\\n",
       "6\n",
       "\\end{array}\\right), \\left(\\begin{array}{r}\n",
       "1 \\\\\n",
       "0 \\\\\n",
       "0 \\\\\n",
       "0 \\\\\n",
       "0\n",
       "\\end{array}\\right)\\right]$"
      ],
      "text/plain": [
       "[\n",
       "[1]  [ 2]  [1]  [1]\n",
       "[2]  [40]  [2]  [0]\n",
       "[3]  [ 6]  [3]  [0]\n",
       "[4]  [ 8]  [4]  [0]\n",
       "[5], [10], [6], [0]\n",
       "]"
      ]
     },
     "metadata": {},
     "output_type": "display_data"
    }
   ],
   "source": [
    "show(basis_F)"
   ]
  },
  {
   "cell_type": "code",
   "execution_count": 24,
   "metadata": {
    "collapsed": false,
    "jupyter": {
     "outputs_hidden": false
    },
    "tags": []
   },
   "outputs": [
    {
     "data": {
      "text/html": [
       "<html>\\(\\displaystyle \\left[\\left(\\begin{array}{r}\n",
       "0 \\\\\n",
       "0 \\\\\n",
       "1 \\\\\n",
       "0 \\\\\n",
       "0\n",
       "\\end{array}\\right)\\right]\\)</html>"
      ],
      "text/latex": [
       "$\\displaystyle \\left[\\left(\\begin{array}{r}\n",
       "0 \\\\\n",
       "0 \\\\\n",
       "1 \\\\\n",
       "0 \\\\\n",
       "0\n",
       "\\end{array}\\right)\\right]$"
      ],
      "text/plain": [
       "[\n",
       "[0]\n",
       "[0]\n",
       "[1]\n",
       "[0]\n",
       "[0]\n",
       "]"
      ]
     },
     "metadata": {},
     "output_type": "display_data"
    }
   ],
   "source": [
    "show(basis_F_C)"
   ]
  },
  {
   "cell_type": "code",
   "execution_count": null,
   "metadata": {
    "collapsed": false,
    "jupyter": {
     "outputs_hidden": false
    }
   },
   "outputs": [],
   "source": []
  }
 ],
 "metadata": {
  "kernelspec": {
   "display_name": "SageMath 9.8",
   "language": "sage",
   "name": "sagemath-9.8"
  },
  "language_info": {
   "codemirror_mode": {
    "name": "ipython",
    "version": 3
   },
   "file_extension": ".py",
   "mimetype": "text/x-python",
   "name": "python",
   "nbconvert_exporter": "python",
   "pygments_lexer": "ipython3",
   "version": "3.11.1"
  }
 },
 "nbformat": 4,
 "nbformat_minor": 4
}
