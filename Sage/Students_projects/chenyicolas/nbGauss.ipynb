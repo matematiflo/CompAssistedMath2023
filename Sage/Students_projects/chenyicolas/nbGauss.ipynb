{
 "cells": [
  {
   "cell_type": "code",
   "execution_count": 28,
   "id": "ce96a8c8",
   "metadata": {
    "tags": []
   },
   "outputs": [
    {
     "name": "stdout",
     "output_type": "stream",
     "text": [
      "Python 3.11.2\n"
     ]
    }
   ],
   "source": [
    "!python3 --version\n",
    "#!python --version\n",
    "#!jupyter --version\n",
    "\n",
    "import inspect\n",
    "\n",
    "from algebra import *\n",
    "from gauss_iterative import *\n",
    "from gauss_recursive import *\n",
    "from example import *"
   ]
  },
  {
   "cell_type": "markdown",
   "id": "a9df72f0",
   "metadata": {},
   "source": [
    "# Gaussian Elimination in plain python (no deps)"
   ]
  },
  {
   "cell_type": "markdown",
   "id": "9e75bc9e",
   "metadata": {},
   "source": [
    "## Motivation\n",
    "_C_\n",
    "\n",
    "Gaussian algorithm is constantly performed in scientific computing of matrix.\n",
    "It is the basis of investigating many properties of matrix, like rank, inverse, kernel and of course the linear equation system. "
   ]
  },
  {
   "cell_type": "code",
   "execution_count": 29,
   "id": "6fe5b149",
   "metadata": {},
   "outputs": [
    {
     "name": "stdout",
     "output_type": "stream",
     "text": [
      "4\t1\t2\t3\n",
      "2\t0.5\t1\t-2\n",
      "0\t3\t0\t2\n",
      "4\t-2\t-1\t3\n",
      "\n"
     ]
    }
   ],
   "source": [
    "show(Demo_Matrix)"
   ]
  },
  {
   "cell_type": "markdown",
   "id": "71d5f56c",
   "metadata": {},
   "source": [
    "### Goal\n",
    "Translate the often human oriented algorithm instructions into proper tasks working on a computer.\n",
    "\n",
    "We have to find representations in code for concepts like \"cross the first column off mentally\" or\n",
    "\"swap the row with a *suitable* row\". \n",
    "\n",
    "We need to judge whether it makes sense to stick to the recipe (global vs. local vision) or if there are some (heuristic) shortcuts for the computer.\n",
    "\n",
    "![](gauss1.jpeg)\n",
    "_Source: Page 60 of the textbook of Fraleigh and Beauregard on Linear Algebra (3rd edition, 1995)._"
   ]
  },
  {
   "cell_type": "markdown",
   "id": "9c4a97d8",
   "metadata": {},
   "source": [
    "\n",
    "## Implementation\n",
    "_N_\n",
    "### Datatypes for type hints\n",
    "```python\n",
    "from fractions import Fraction\n",
    "F = Fraction | float | int \n",
    "R = list[F]\n",
    "M = list[R]    # 0-based indexing\n",
    "```\n",
    "\n",
    "### Algebra on Matrix\n",
    "```python\n",
    "# Scalar Multiplication\n",
    "def scalar_mult(M1: M, k: F) -> M\n",
    "# Addition\n",
    "def add(M1: M, M2: M) -> M\n",
    "# Multiplication\n",
    "def mult(M1: M, M2: M) -> M\n",
    "# Take the cth-column\n",
    "def column(M1: M, c: int) -> R\n",
    "```\n",
    "\n",
    "### Actions and their Elementary Matrices\n",
    "```python\n",
    "# Identity Matrix\n",
    "def I(n: int) -> M\n",
    "# Swap two rows\n",
    "def S(n: int, r1: int, r2: int) -> M\n",
    "# Multiply a row a times\n",
    "def M(n: int, r1: int, a: F) -> M\n",
    "# Add a times of r2 into r1\n",
    "def A(n: int, r1: int, r2: int, a: F) -> M\n",
    "```\n",
    "\n",
    "### Properties\n",
    "```python\n",
    "def is_nullrow(row: R) -> bool:\n",
    "\n",
    "def is_identity_matrix(m: M) -> bool:\n",
    "\n",
    "```\n",
    "### Helpers\n",
    "```python\n",
    "def show(m: M):\n",
    "def show_indent(m: M, indent: int):\n",
    "\n",
    "class StepByStep:\n",
    "     \"\"\"A class containing matrix and a stack of elementary operations,\n",
    "     applying them one by one\"\"\"\n",
    "```"
   ]
  },
  {
   "cell_type": "markdown",
   "id": "7b8d911d",
   "metadata": {},
   "source": [
    "### Basic algebra function in use"
   ]
  },
  {
   "cell_type": "code",
   "execution_count": 30,
   "id": "e6c5eafe",
   "metadata": {
    "tags": []
   },
   "outputs": [
    {
     "name": "stdout",
     "output_type": "stream",
     "text": [
      "1\t2\t3\n",
      "2\t0\t1\n",
      "1\t2\t5\n",
      "\n",
      "10\t20\t30\n",
      "20\t0\t10\n",
      "10\t20\t50\n",
      "\n",
      "3\t6\t9\n",
      "2\t0\t1\n",
      "1\t2\t5\n",
      "\n",
      "[1, 2, 1]\n"
     ]
    }
   ],
   "source": [
    "simpleM = [ [1,2,3], [2,0,1], [1,2,5] ]\n",
    "\n",
    "show(simpleM)\n",
    "\n",
    "## Scale the matrix by 10:\n",
    "show(scalar_mult(simpleM, 10))\n",
    "\n",
    "## Scale row0 by 3\n",
    "show(mult(M(3, 0, 3), simpleM))\n",
    "\n",
    "## Project first column:\n",
    "print(column(simpleM, 0))"
   ]
  },
  {
   "cell_type": "markdown",
   "id": "b0a5f26e",
   "metadata": {},
   "source": [
    "## Demos\n",
    "Let's first show some examples."
   ]
  },
  {
   "cell_type": "code",
   "execution_count": 31,
   "id": "4eb23f0e",
   "metadata": {
    "tags": []
   },
   "outputs": [
    {
     "name": "stdout",
     "output_type": "stream",
     "text": [
      "3.50\t-2.00\t1.00\n",
      "-3.10\t5.60\t0.00\n",
      "4.70\t0.00\t-1.30\n",
      "\n"
     ]
    }
   ],
   "source": [
    "show(Real_Matrix)"
   ]
  },
  {
   "cell_type": "code",
   "execution_count": 32,
   "id": "23e1388a",
   "metadata": {
    "tags": []
   },
   "outputs": [
    {
     "name": "stdout",
     "output_type": "stream",
     "text": [
      "3.50\t-2.00\t1.00\n",
      "0.00\t3.83\t0.89\n",
      "0.00\t0.00\t-3.26\n",
      "\n"
     ]
    }
   ],
   "source": [
    "Real_echelon, _, Elementary_trace = gauss_algorithm_iterative(Real_Matrix, True)\n",
    "show(Real_echelon)"
   ]
  },
  {
   "cell_type": "code",
   "execution_count": 33,
   "id": "c3276273",
   "metadata": {
    "tags": []
   },
   "outputs": [],
   "source": [
    "steps = StepByStep(Real_Matrix, Elementary_trace)"
   ]
  },
  {
   "cell_type": "code",
   "execution_count": 34,
   "id": "3bcaba39",
   "metadata": {
    "tags": []
   },
   "outputs": [
    {
     "name": "stdout",
     "output_type": "stream",
     "text": [
      "3.50\t-2.00\t1.00\n",
      "0.00\t3.83\t0.89\n",
      "4.70\t0.00\t-1.30\n",
      "\n"
     ]
    },
    {
     "name": "stdin",
     "output_type": "stream",
     "text": [
      " 1\n"
     ]
    },
    {
     "name": "stdout",
     "output_type": "stream",
     "text": [
      "3.50\t-2.00\t1.00\n",
      "0.00\t3.83\t0.89\n",
      "0.00\t2.69\t-2.64\n",
      "\n"
     ]
    },
    {
     "name": "stdin",
     "output_type": "stream",
     "text": [
      " 12\n"
     ]
    },
    {
     "name": "stdout",
     "output_type": "stream",
     "text": [
      "3.50\t-2.00\t1.00\n",
      "0.00\t3.83\t0.89\n",
      "0.00\t0.00\t-3.26\n",
      "\n"
     ]
    },
    {
     "name": "stdin",
     "output_type": "stream",
     "text": [
      " 89\n"
     ]
    },
    {
     "name": "stdout",
     "output_type": "stream",
     "text": [
      "This is the end of the algorithm!\n"
     ]
    }
   ],
   "source": [
    "while True:\n",
    "    try:\n",
    "        next(steps)\n",
    "        input()\n",
    "    except:\n",
    "        print(\"This is the end of the algorithm!\")\n",
    "        break"
   ]
  },
  {
   "cell_type": "code",
   "execution_count": 35,
   "id": "b4e4b60b",
   "metadata": {
    "tags": []
   },
   "outputs": [
    {
     "name": "stdout",
     "output_type": "stream",
     "text": [
      "2\t1\t0\t0\n",
      "3\t5\t-1\t-3\n",
      "0\t3\t-1\t0\n",
      "1\t4\t0\t-2\n",
      "\n"
     ]
    }
   ],
   "source": [
    "show(Rational_Matrix)"
   ]
  },
  {
   "cell_type": "code",
   "execution_count": 36,
   "id": "20b350b8",
   "metadata": {
    "tags": []
   },
   "outputs": [
    {
     "name": "stdout",
     "output_type": "stream",
     "text": [
      "Rank of this matrix is: 4\n",
      "1\t0\t0\t0\n",
      "0\t1\t0\t0\n",
      "0\t0\t1\t0\n",
      "0\t0\t0\t1\n",
      "\n"
     ]
    }
   ],
   "source": [
    "Rational_reduced_echelon, rank, Elementary_trace = normalize(Rational_Matrix, True)\n",
    "print(\"Rank of this matrix is:\", rank)\n",
    "show(Rational_reduced_echelon)"
   ]
  },
  {
   "cell_type": "code",
   "execution_count": 37,
   "id": "321afd1f",
   "metadata": {
    "tags": []
   },
   "outputs": [],
   "source": [
    "steps = StepByStep(Rational_Matrix, Elementary_trace)"
   ]
  },
  {
   "cell_type": "code",
   "execution_count": 39,
   "id": "aa40fc40",
   "metadata": {
    "tags": []
   },
   "outputs": [
    {
     "name": "stdout",
     "output_type": "stream",
     "text": [
      "This is the end of the algorithm!\n"
     ]
    }
   ],
   "source": [
    "while True:\n",
    "    try:\n",
    "        next(steps)\n",
    "        input()\n",
    "    except:\n",
    "        print(\"This is the end of the algorithm!\")\n",
    "        break"
   ]
  },
  {
   "cell_type": "markdown",
   "id": "dda4866e",
   "metadata": {},
   "source": [
    "### Computing the inverse\n",
    "_C_\n",
    "\n",
    "We can compute the inverse of an invertible matrix by simply multipling all elementary matrices together."
   ]
  },
  {
   "cell_type": "code",
   "execution_count": 40,
   "id": "018d092d",
   "metadata": {
    "tags": []
   },
   "outputs": [
    {
     "name": "stdout",
     "output_type": "stream",
     "text": [
      "8/19\t2/19\t-2/19\t-3/19\n",
      "3/19\t-4/19\t4/19\t6/19\n",
      "9/19\t-12/19\t-7/19\t18/19\n",
      "10/19\t-7/19\t7/19\t1/19\n",
      "\n",
      "1\t0\t0\t0\n",
      "0\t1\t0\t0\n",
      "0\t0\t1\t0\n",
      "0\t0\t0\t1\n",
      "\n"
     ]
    }
   ],
   "source": [
    "# But be careful that the matrix multiplications don't commute!\n",
    "Elementary_trace.reverse()\n",
    "Inverse = reduce(mult, Elementary_trace, I(rank))\n",
    "show(Inverse)\n",
    "show(mult(Rational_Matrix, Inverse))"
   ]
  },
  {
   "cell_type": "markdown",
   "id": "37c4caf0",
   "metadata": {},
   "source": [
    "## Details of the Implementation\n",
    "_C_\n",
    "\n",
    "### Iterative Version\n",
    "\n",
    "Perform Gauss algorithm (iterative)\n",
    "\n",
    "```python\n",
    "def gauss_algorithm_iterative(m: M, is_traced=False) -> tuple[M, int, list[M]]\n",
    "```\n",
    "\n",
    "1. Get most-left column with non-zero values, find best row for first column, otherwise ignore this column by increasing now_column\n",
    "2. If the top-row value is zero, then swap now_row with last non-zero row (or put to bottom using nullrow_cnt)\n",
    "3. Make zeroes below the pivot (by adding the respective inverse multiple)\n",
    "4. Perform 1-3 with remaining rows.\n",
    "\n",
    "It returns the reduced matrix(in echelon form), the rank and the trace of operations\n",
    "\n",
    "```python\n",
    "    nullrow_cnt = 0\n",
    "    now_row = 0\n",
    "    now_column = 0\n",
    "    row_dim = len(m)\n",
    "    trace = []\n",
    "    while now_row < row_dim - nullrow_cnt:\n",
    "        (pivot_index, pivot) = get_pivot(m[now_row])\n",
    "\n",
    "        if pivot_index == None:  # it's a nullrow\n",
    "            swap = S(row_dim, now_row, row_dim - 1 - nullrow_cnt)\n",
    "            trace.append(swap)\n",
    "            m = mult(swap, m)\n",
    "            nullrow_cnt += 1\n",
    "        else:\n",
    "            if pivot_index > now_column:  # there's still better pivot column at left\n",
    "                better_candidate = find_better_candidate(\n",
    "                    m, now_column, pivot_index, now_row\n",
    "                )\n",
    "                swap = S(row_dim, now_row, better_candidate)\n",
    "                trace.append(swap)\n",
    "                m = mult(swap, m)\n",
    "                (pivot_index, pivot) = get_pivot(\n",
    "                    m[now_row]\n",
    "                )  # after swapping, we must get the pivot again\n",
    "            col = column(m, pivot_index)\n",
    "            scalar = list(map(lambda c: c / pivot, col))\n",
    "            for k in range(now_row + 1, row_dim - nullrow_cnt):\n",
    "                if (\n",
    "                    -scalar[k] < 0 or -scalar[k] > 0\n",
    "                ):  # if already 0, we don't need to do anything\n",
    "                    addition = A(row_dim, k, now_row, -scalar[k])\n",
    "                    trace.append(addition)\n",
    "                    m = mult(addition, m)\n",
    "            now_row += 1\n",
    "            now_column += 1\n",
    "    if is_traced:\n",
    "        return (m, row_dim - nullrow_cnt, trace)\n",
    "    else:\n",
    "        return (m, row_dim - nullrow_cnt, [])\n",
    "```\n",
    "\n",
    "Let's check how `get_pivot` works:"
   ]
  },
  {
   "cell_type": "code",
   "execution_count": 41,
   "id": "59f9edf2",
   "metadata": {
    "tags": []
   },
   "outputs": [
    {
     "name": "stdout",
     "output_type": "stream",
     "text": [
      "(0, 3) \t is (index, value) of the pivot of row  [3, 4, 0]\n",
      "(None, None) \t is (index, value) of the pivot or row  [0, 0, 0]\n"
     ]
    }
   ],
   "source": [
    "\n",
    "R1 = [3, 4, 0]\n",
    "print(get_pivot(R1), '\\t is (index, value) of the pivot of row ', R1)\n",
    "\n",
    "R2 = [0, 0, 0]\n",
    "print(get_pivot(R2), '\\t is (index, value) of the pivot or row ', R2)"
   ]
  },
  {
   "cell_type": "markdown",
   "id": "d732be1a",
   "metadata": {},
   "source": [
    "And also `find_better_candidate`:"
   ]
  },
  {
   "cell_type": "code",
   "execution_count": 42,
   "id": "60719063",
   "metadata": {
    "tags": []
   },
   "outputs": [
    {
     "name": "stdout",
     "output_type": "stream",
     "text": [
      "0\t0\t5\n",
      "0\t1\t0\n",
      "2\t4\t0\n",
      "\n"
     ]
    }
   ],
   "source": [
    "M1 = [[0, 0, 5], [0, 1, 0], [2, 4, 0]]\n",
    "show(M1)"
   ]
  },
  {
   "cell_type": "code",
   "execution_count": 43,
   "id": "24ed5161",
   "metadata": {
    "tags": []
   },
   "outputs": [
    {
     "name": "stdout",
     "output_type": "stream",
     "text": [
      "2\n"
     ]
    }
   ],
   "source": [
    "print(find_better_candidate(M1, 0, 2, 0))"
   ]
  },
  {
   "cell_type": "markdown",
   "id": "2be9d9f9",
   "metadata": {},
   "source": [
    "Normalize makes the matrix into a reduced echelon matrix.\n",
    "\n",
    "```python\n",
    "def normalize(m: M, is_traced=False) -> tuple[M, int, list[M]]\n",
    "```\n",
    "\n",
    "It applies the gauss algorithm first, then it goes from bottom(non-zero row) to top with following steps:\n",
    "\n",
    "1. Normalize the pivot element of this row into 1\n",
    "2. Make the element above the pivot zero by adding the respective additive inverse.\n",
    "3. Repeat 1-2 on the above row till the first row.\n",
    "\n",
    "It returns a tuple with reduced matrix, the rank of the matrix and trace of operations\n",
    "\n",
    "```python\n",
    "    row_dim = len(m)\n",
    "    (m, rank, trace) = gauss_algorithm_iterative(m, is_traced)\n",
    "    pivots = get_pivots(m) #get all pivots to make it faster later\n",
    "    for k in range(rank):\n",
    "        mul = M(row_dim, rank - k - 1, 1 / pivots[rank - k - 1][1]) #normalizing\n",
    "        if is_traced:\n",
    "            trace.append(mul)\n",
    "        m = mult(mul, m)\n",
    "        col_index = pivots[rank - k - 1][0] #the column above this pivot should be cleared\n",
    "        for r in range(rank - k - 1):\n",
    "            if -m[r][col_index] < 0 or -m[r][col_index] > 0:\n",
    "                addition = A(row_dim, r, rank - k - 1, -m[r][col_index]) #make the element zero\n",
    "                if is_traced:\n",
    "                    trace.append(addition)\n",
    "                m = mult(addition, m)\n",
    "    if is_traced:\n",
    "        return (m, rank, trace)\n",
    "    else:\n",
    "        return (m, rank, [])\n",
    "```"
   ]
  },
  {
   "cell_type": "markdown",
   "id": "255ba0f6",
   "metadata": {},
   "source": [
    "## Recursive implementation\n",
    "_N_"
   ]
  },
  {
   "cell_type": "markdown",
   "id": "2c990b67",
   "metadata": {},
   "source": [
    "![](gauss_recursive.png)"
   ]
  },
  {
   "cell_type": "markdown",
   "id": "b03ce29a",
   "metadata": {},
   "source": [
    "### Recursive Algorithm\n",
    "\n",
    "```python\n",
    "trace = True\n",
    "\n",
    "\n",
    "def find_pivot_row_index(column: R) -> int:\n",
    "    \"\"\"Assuming `column` contains a non-zero value, find it's (row) index\"\"\"\n",
    "    for i in range(0, len(column)):\n",
    "        if column[i] != 0:\n",
    "            return i\n",
    "        else:\n",
    "            i += 1\n",
    "            continue\n",
    "\n",
    "\n",
    "def gauss_rec(\n",
    "    m: M, nowrow: int, nowcol: int, n_rows: int, n_cols: int, stack, depth: int\n",
    ") -> tuple[M, list[M]]:\n",
    "    \"\"\"\n",
    "    Recursive implementation of gauss elimination.\n",
    "\n",
    "    1. Establish a useful toprow by finding left-most pivot row. Skip zero columns and swap rows if necessary.\n",
    "    1.1 As long as zero-column, increment nowcol\n",
    "    1.2 Current nowcol is guaranteed to have a non-zero entry in some row. (as it's not a zero column)\n",
    "    2. Create zeroes below the pivot\n",
    "    3. Solve recursively for m with `nowrow - 1` and `nowcol - 1`\n",
    "    \n",
    "    Return current matrix and stack (at any point) once running out of rows or cols.\n",
    "\n",
    "    Prints the transformed matrices for each step, with a natural language description and\n",
    "    returns the accumulated list of elementary_matrices.\n",
    "\n",
    "    \"\"\"\n",
    "\n",
    "    indentation = \"\\t\" * depth\n",
    "\n",
    "    if trace: print(f\"\\n{indentation}Working on matrix of size {n_rows - nowrow} x {n_cols - nowcol}\")\n",
    "\n",
    "    # Base case of recursion\n",
    "    if nowrow == n_rows - 1 or nowcol == n_cols - 1:\n",
    "        return m, stack\n",
    "\n",
    "    \n",
    "    # 1. Skip any zero columns\n",
    "\n",
    "    while is_nullrow(column(m[nowrow:], nowcol)):\n",
    "        if trace: print(f\"\\n{indentation}Skipping at least one zero-column...\")\n",
    "        nowcol += 1\n",
    "        if nowcol == n_cols - 1:  # Another, more hidden base case\n",
    "            return m, stack\n",
    "\n",
    "    if trace: print(f\"\\n{indentation}-- Establish a useful toprow --\")\n",
    "\n",
    "    # 2. Establish a useful toprow, swap if necessary. column(m, nowcol) is guaranteed to have a pivotrow\n",
    "    \n",
    "    pivot = m[nowrow][nowcol]\n",
    "    if pivot == 0:\n",
    "        better_row = find_pivot_row_index(column(m[nowrow + 1:], nowcol)) + nowrow + 1\n",
    "        elem_swap = S(n_rows, nowrow, better_row)\n",
    "        if trace:\n",
    "            stack.append(elem_swap)\n",
    "        m = mult(elem_swap, m)\n",
    "        pivot = m[nowrow][nowcol] # update pivot to reflect row swap\n",
    "        assert pivot != 0\n",
    "        if trace:\n",
    "            print(\n",
    "                    f\"\\n{indentation}Swapped row {nowrow + 1} with good pivot row {better_row + 1}\\n\"\n",
    "            )\n",
    "            show_indent(m, depth)\n",
    "    elif trace:\n",
    "        print(f\"\\n{indentation}No need to swap rows. Current pivot is fine\\n\")\n",
    "\n",
    "    \n",
    "\n",
    "    # TODO: normalize toprow by dividing by it's pivot simplifying the computation of inv_scalar.\n",
    "\n",
    "    if trace:\n",
    "        print(f\"\\n{indentation}-- Create zeroes below the pivot --\")\n",
    "        \n",
    "    # 3. Create zeroes below the pivot\n",
    "    \n",
    "    for rowindex in range(nowrow + 1, n_rows):\n",
    "        if m[rowindex][nowcol] == 0: continue  # entry below pivot is already 0\n",
    "        else:\n",
    "            inv_scalar = -(m[rowindex][nowcol] / pivot)\n",
    "            elem_add = A(n_rows, rowindex, nowrow, inv_scalar)\n",
    "        if trace: stack.append(elem_add)\n",
    "        m = mult(elem_add, m)\n",
    "        if trace: print(\n",
    "                f\"\\n{indentation}Created 0 below pivot in row {rowindex + 1} by adding {inv_scalar} * row {nowrow + 1} to it.\\n\"\n",
    "            )\n",
    "            show_indent(m, depth)\n",
    "\n",
    "    return gauss_rec(m, nowrow + 1, nowcol + 1, n_rows, n_cols, stack, depth + 1)\n",
    "\n",
    "\n",
    "def gauss_rec_go(m: M):\n",
    "    \"\"\"run recursive gauss_split with initial values\"\"\"\n",
    "    n_rows = len(m)\n",
    "    n_cols = len(m[0])\n",
    "    if n_rows == 1 and n_cols == 1:\n",
    "        return m\n",
    "    if m == [[0] * n_cols] * n_rows:\n",
    "        return m\n",
    "    print(\"Bring the following matrix to row_echelon form:\\n\")\n",
    "    show(m)\n",
    "    return gauss_rec(m, 0, 0, n_rows, n_cols, [], 0)\n",
    "\n",
    "```"
   ]
  },
  {
   "cell_type": "code",
   "execution_count": 44,
   "id": "2710a047",
   "metadata": {
    "tags": []
   },
   "outputs": [
    {
     "name": "stdout",
     "output_type": "stream",
     "text": [
      "Bring the following matrix to row_echelon form:\n",
      "\n",
      "4\t1\t2\t3\n",
      "2\t0.5\t1\t-2\n",
      "0\t3\t0\t2\n",
      "4\t-2\t-1\t3\n",
      "\n",
      "\n",
      "Working on matrix of size 4 x 4\n",
      "\n",
      "-- Establish a useful toprow --\n",
      "\n",
      "No need to swap rows. Current pivot is fine\n",
      "\n",
      "\n",
      "-- Create zeroes below the pivot --\n",
      "\n",
      "Created 0 below pivot in row 2 by adding -0.5 * row 1 to it.\n",
      "\n",
      "4\t1.0\t2\t3\n",
      "0.0\t0.0\t0.0\t-3.5\n",
      "0\t3.0\t0\t2\n",
      "4\t-2.0\t-1\t3\n",
      "\n",
      "Created 0 below pivot in row 4 by adding -1.0 * row 1 to it.\n",
      "\n",
      "4.00\t1.00\t2.00\t3.00\n",
      "0.00\t0.00\t0.00\t-3.50\n",
      "0.00\t3.00\t0.00\t2.00\n",
      "0.00\t-3.00\t-3.00\t0.00\n",
      "\n",
      "\tWorking on matrix of size 3 x 3\n",
      "\n",
      "\t-- Establish a useful toprow --\n",
      "\n",
      "\tSwapped row 2 with good pivot row 3\n",
      "\n",
      "\t4.00\t1.00\t2.00\t3.00\n",
      "\t0.00\t3.00\t0.00\t2.00\n",
      "\t0.00\t0.00\t0.00\t-3.50\n",
      "\t0.00\t-3.00\t-3.00\t0.00\n",
      "\n",
      "\t-- Create zeroes below the pivot --\n",
      "\n",
      "\tCreated 0 below pivot in row 4 by adding 1.0 * row 2 to it.\n",
      "\n",
      "\t4.00\t1.00\t2.00\t3.00\n",
      "\t0.00\t3.00\t0.00\t2.00\n",
      "\t0.00\t0.00\t0.00\t-3.50\n",
      "\t0.00\t0.00\t-3.00\t2.00\n",
      "\n",
      "\t\tWorking on matrix of size 2 x 2\n",
      "\n",
      "\t\t-- Establish a useful toprow --\n",
      "\n",
      "\t\tSwapped row 3 with good pivot row 4\n",
      "\n",
      "\t\t4.00\t1.00\t2.00\t3.00\n",
      "\t\t0.00\t3.00\t0.00\t2.00\n",
      "\t\t0.00\t0.00\t-3.00\t2.00\n",
      "\t\t0.00\t0.00\t0.00\t-3.50\n",
      "\n",
      "\t\t-- Create zeroes below the pivot --\n",
      "\n",
      "\t\t\tWorking on matrix of size 1 x 1\n"
     ]
    }
   ],
   "source": [
    "matrix_row_echelon, stack = gauss_rec_go(Demo_Matrix)   # with inline output\n",
    "\n",
    "steps = StepByStep(Demo_Matrix, stack)"
   ]
  },
  {
   "cell_type": "code",
   "execution_count": 45,
   "id": "882b5eca",
   "metadata": {
    "tags": []
   },
   "outputs": [
    {
     "name": "stdout",
     "output_type": "stream",
     "text": [
      "4\t1.0\t2\t3\n",
      "0.0\t0.0\t0.0\t-3.5\n",
      "0\t3.0\t0\t2\n",
      "4\t-2.0\t-1\t3\n",
      "\n"
     ]
    },
    {
     "data": {
      "text/plain": [
       "[[4, 1.0, 2, 3], [0.0, 0.0, 0.0, -3.5], [0, 3.0, 0, 2], [4, -2.0, -1, 3]]"
      ]
     },
     "execution_count": 45,
     "metadata": {},
     "output_type": "execute_result"
    }
   ],
   "source": [
    "next(steps)"
   ]
  },
  {
   "cell_type": "markdown",
   "id": "007a8876",
   "metadata": {},
   "source": [
    "### Think locally, act global\n",
    "_N_\n",
    "\n",
    "It's not trivial to think about the local and global state at the same time.\n",
    "We have access to the full matrix at each recursion depth, because we need\n",
    "to perform the elementary-matrices to the whole matrix.\n",
    "\n",
    "Although it's also possible to pass smaller matrices down the recursion.\n",
    "but it's more complicated to merge all those submatrices back together.\n",
    "\n",
    "So this mixture of local/global view makes it harder to choose the correct\n",
    "variables to derive our indices from and also has a lot of off-by-one potential.\n"
   ]
  },
  {
   "cell_type": "markdown",
   "id": "cd24b657",
   "metadata": {},
   "source": [
    "## Improvements / Refactoring\n",
    "_C_\n",
    "\n",
    "- The gauss function is quite big and deeply nested. It would be nice to have separate functions matching the steps in the algorithm.\n",
    "- Implement different approaches, run performance tests and analyze. Maybe some heuristics can help to speed up unlucky cases (e.g. pivots all the way to the right)\n",
    "- What about correctness?\n",
    "  - e.g. numerical issues (convert int to fractions?)\n",
    "- Proper testing of edge cases.\n",
    "- Check properties and assert they hold within the algorithm. (like invariants)\n",
    "- Represent `Matrix` as a class with properties and functions; find more appropriate model than `list[list[F]]`\n",
    "- The bottleneck of this algorithm is the naive matrix multiplication (in a production environment it will be replaced by robust libraries and GPU acceleration)\n",
    "- Swapping lists instead of swapping via elementary_swap_matrix could be cheaper."
   ]
  },
  {
   "cell_type": "markdown",
   "id": "26cbf6f1",
   "metadata": {},
   "source": [
    "### numerical issues of unreal reals"
   ]
  },
  {
   "cell_type": "code",
   "execution_count": 24,
   "id": "a2e77b43",
   "metadata": {
    "tags": []
   },
   "outputs": [
    {
     "name": "stdout",
     "output_type": "stream",
     "text": [
      "True\n",
      "False\n",
      "False\n"
     ]
    }
   ],
   "source": [
    "# yes\n",
    "print(0.2 + 0.2 == 0.4)\n",
    "\n",
    "# but\n",
    "print(0.2 + 0.1 == 0.3)\n",
    "print(0.2 - 0.2 == (((0.3 - 0.1) - 0.1) - 0.1))"
   ]
  },
  {
   "cell_type": "code",
   "execution_count": 46,
   "id": "9be9c0a4",
   "metadata": {
    "tags": []
   },
   "outputs": [
    {
     "ename": "KeyboardInterrupt",
     "evalue": "",
     "output_type": "error",
     "traceback": [
      "\u001b[0;31m---------------------------------------------------------------------------\u001b[0m",
      "\u001b[0;31mKeyboardInterrupt\u001b[0m                         Traceback (most recent call last)",
      "Cell \u001b[0;32mIn[46], line 2\u001b[0m\n\u001b[1;32m      1\u001b[0m \u001b[38;5;66;03m# See how long it takes!\u001b[39;00m\n\u001b[0;32m----> 2\u001b[0m \u001b[43mgauss_algorithm_iterative\u001b[49m\u001b[43m(\u001b[49m\u001b[43mBig_Matrix\u001b[49m\u001b[43m)\u001b[49m\n",
      "File \u001b[0;32m~/Documents/GitHub/Comp_assisted_math/Sage/Students_projects/chenyicolas/gauss_iterative.py:72\u001b[0m, in \u001b[0;36mgauss_algorithm_iterative\u001b[0;34m(m, is_traced)\u001b[0m\n\u001b[1;32m     70\u001b[0m         addition \u001b[38;5;241m=\u001b[39m A(row_dim, k, now_row, \u001b[38;5;241m-\u001b[39mscalar[k])\n\u001b[1;32m     71\u001b[0m         trace\u001b[38;5;241m.\u001b[39mappend(addition)\n\u001b[0;32m---> 72\u001b[0m         m \u001b[38;5;241m=\u001b[39m \u001b[43mmult\u001b[49m\u001b[43m(\u001b[49m\u001b[43maddition\u001b[49m\u001b[43m,\u001b[49m\u001b[43m \u001b[49m\u001b[43mm\u001b[49m\u001b[43m)\u001b[49m\n\u001b[1;32m     73\u001b[0m now_row \u001b[38;5;241m+\u001b[39m\u001b[38;5;241m=\u001b[39m \u001b[38;5;241m1\u001b[39m\n\u001b[1;32m     74\u001b[0m now_column \u001b[38;5;241m+\u001b[39m\u001b[38;5;241m=\u001b[39m \u001b[38;5;241m1\u001b[39m\n",
      "File \u001b[0;32m~/Documents/GitHub/Comp_assisted_math/Sage/Students_projects/chenyicolas/algebra.py:80\u001b[0m, in \u001b[0;36mmult\u001b[0;34m(M1, M2)\u001b[0m\n\u001b[1;32m     78\u001b[0m \u001b[38;5;28;01mif\u001b[39;00m is_identity_matrix(M2):\n\u001b[1;32m     79\u001b[0m     \u001b[38;5;28;01mreturn\u001b[39;00m M1\n\u001b[0;32m---> 80\u001b[0m \u001b[38;5;28;01mreturn\u001b[39;00m \u001b[43m[\u001b[49m\n\u001b[1;32m     81\u001b[0m \u001b[43m    \u001b[49m\u001b[43m[\u001b[49m\u001b[38;5;28;43msum\u001b[39;49m\u001b[43m(\u001b[49m\u001b[43mx\u001b[49m\u001b[43m \u001b[49m\u001b[38;5;241;43m*\u001b[39;49m\u001b[43m \u001b[49m\u001b[43my\u001b[49m\u001b[43m \u001b[49m\u001b[38;5;28;43;01mfor\u001b[39;49;00m\u001b[43m \u001b[49m\u001b[43mx\u001b[49m\u001b[43m,\u001b[49m\u001b[43m \u001b[49m\u001b[43my\u001b[49m\u001b[43m \u001b[49m\u001b[38;5;129;43;01min\u001b[39;49;00m\u001b[43m \u001b[49m\u001b[38;5;28;43mzip\u001b[39;49m\u001b[43m(\u001b[49m\u001b[43mrow\u001b[49m\u001b[43m,\u001b[49m\u001b[43m \u001b[49m\u001b[43mcolumn\u001b[49m\u001b[43m(\u001b[49m\u001b[43mM2\u001b[49m\u001b[43m,\u001b[49m\u001b[43m \u001b[49m\u001b[43mc\u001b[49m\u001b[43m)\u001b[49m\u001b[43m)\u001b[49m\u001b[43m)\u001b[49m\u001b[43m \u001b[49m\u001b[38;5;28;43;01mfor\u001b[39;49;00m\u001b[43m \u001b[49m\u001b[43mc\u001b[49m\u001b[43m \u001b[49m\u001b[38;5;129;43;01min\u001b[39;49;00m\u001b[43m \u001b[49m\u001b[38;5;28;43mrange\u001b[39;49m\u001b[43m(\u001b[49m\u001b[38;5;28;43mlen\u001b[39;49m\u001b[43m(\u001b[49m\u001b[43mM2\u001b[49m\u001b[43m[\u001b[49m\u001b[38;5;241;43m0\u001b[39;49m\u001b[43m]\u001b[49m\u001b[43m)\u001b[49m\u001b[43m)\u001b[49m\u001b[43m]\u001b[49m\n\u001b[1;32m     82\u001b[0m \u001b[43m    \u001b[49m\u001b[38;5;28;43;01mfor\u001b[39;49;00m\u001b[43m \u001b[49m\u001b[43mrow\u001b[49m\u001b[43m \u001b[49m\u001b[38;5;129;43;01min\u001b[39;49;00m\u001b[43m \u001b[49m\u001b[43mM1\u001b[49m\n\u001b[1;32m     83\u001b[0m \u001b[43m\u001b[49m\u001b[43m]\u001b[49m\n",
      "File \u001b[0;32m~/Documents/GitHub/Comp_assisted_math/Sage/Students_projects/chenyicolas/algebra.py:81\u001b[0m, in \u001b[0;36m<listcomp>\u001b[0;34m(.0)\u001b[0m\n\u001b[1;32m     78\u001b[0m \u001b[38;5;28;01mif\u001b[39;00m is_identity_matrix(M2):\n\u001b[1;32m     79\u001b[0m     \u001b[38;5;28;01mreturn\u001b[39;00m M1\n\u001b[1;32m     80\u001b[0m \u001b[38;5;28;01mreturn\u001b[39;00m [\n\u001b[0;32m---> 81\u001b[0m     \u001b[43m[\u001b[49m\u001b[38;5;28;43msum\u001b[39;49m\u001b[43m(\u001b[49m\u001b[43mx\u001b[49m\u001b[43m \u001b[49m\u001b[38;5;241;43m*\u001b[39;49m\u001b[43m \u001b[49m\u001b[43my\u001b[49m\u001b[43m \u001b[49m\u001b[38;5;28;43;01mfor\u001b[39;49;00m\u001b[43m \u001b[49m\u001b[43mx\u001b[49m\u001b[43m,\u001b[49m\u001b[43m \u001b[49m\u001b[43my\u001b[49m\u001b[43m \u001b[49m\u001b[38;5;129;43;01min\u001b[39;49;00m\u001b[43m \u001b[49m\u001b[38;5;28;43mzip\u001b[39;49m\u001b[43m(\u001b[49m\u001b[43mrow\u001b[49m\u001b[43m,\u001b[49m\u001b[43m \u001b[49m\u001b[43mcolumn\u001b[49m\u001b[43m(\u001b[49m\u001b[43mM2\u001b[49m\u001b[43m,\u001b[49m\u001b[43m \u001b[49m\u001b[43mc\u001b[49m\u001b[43m)\u001b[49m\u001b[43m)\u001b[49m\u001b[43m)\u001b[49m\u001b[43m \u001b[49m\u001b[38;5;28;43;01mfor\u001b[39;49;00m\u001b[43m \u001b[49m\u001b[43mc\u001b[49m\u001b[43m \u001b[49m\u001b[38;5;129;43;01min\u001b[39;49;00m\u001b[43m \u001b[49m\u001b[38;5;28;43mrange\u001b[39;49m\u001b[43m(\u001b[49m\u001b[38;5;28;43mlen\u001b[39;49m\u001b[43m(\u001b[49m\u001b[43mM2\u001b[49m\u001b[43m[\u001b[49m\u001b[38;5;241;43m0\u001b[39;49m\u001b[43m]\u001b[49m\u001b[43m)\u001b[49m\u001b[43m)\u001b[49m\u001b[43m]\u001b[49m\n\u001b[1;32m     82\u001b[0m     \u001b[38;5;28;01mfor\u001b[39;00m row \u001b[38;5;129;01min\u001b[39;00m M1\n\u001b[1;32m     83\u001b[0m ]\n",
      "File \u001b[0;32m~/Documents/GitHub/Comp_assisted_math/Sage/Students_projects/chenyicolas/algebra.py:81\u001b[0m, in \u001b[0;36m<listcomp>\u001b[0;34m(.0)\u001b[0m\n\u001b[1;32m     78\u001b[0m \u001b[38;5;28;01mif\u001b[39;00m is_identity_matrix(M2):\n\u001b[1;32m     79\u001b[0m     \u001b[38;5;28;01mreturn\u001b[39;00m M1\n\u001b[1;32m     80\u001b[0m \u001b[38;5;28;01mreturn\u001b[39;00m [\n\u001b[0;32m---> 81\u001b[0m     [\u001b[38;5;28msum\u001b[39m(x \u001b[38;5;241m*\u001b[39m y \u001b[38;5;28;01mfor\u001b[39;00m x, y \u001b[38;5;129;01min\u001b[39;00m \u001b[38;5;28mzip\u001b[39m(row, column(M2, c))) \u001b[38;5;28;01mfor\u001b[39;00m c \u001b[38;5;129;01min\u001b[39;00m \u001b[38;5;28mrange\u001b[39m(\u001b[38;5;28mlen\u001b[39m(M2[\u001b[38;5;241m0\u001b[39m]))]\n\u001b[1;32m     82\u001b[0m     \u001b[38;5;28;01mfor\u001b[39;00m row \u001b[38;5;129;01min\u001b[39;00m M1\n\u001b[1;32m     83\u001b[0m ]\n",
      "File \u001b[0;32m~/Documents/GitHub/Comp_assisted_math/Sage/Students_projects/chenyicolas/algebra.py:81\u001b[0m, in \u001b[0;36m<genexpr>\u001b[0;34m(.0)\u001b[0m\n\u001b[1;32m     78\u001b[0m \u001b[38;5;28;01mif\u001b[39;00m is_identity_matrix(M2):\n\u001b[1;32m     79\u001b[0m     \u001b[38;5;28;01mreturn\u001b[39;00m M1\n\u001b[1;32m     80\u001b[0m \u001b[38;5;28;01mreturn\u001b[39;00m [\n\u001b[0;32m---> 81\u001b[0m     [\u001b[38;5;28msum\u001b[39m(x \u001b[38;5;241m*\u001b[39m y \u001b[38;5;28;01mfor\u001b[39;00m x, y \u001b[38;5;129;01min\u001b[39;00m \u001b[38;5;28mzip\u001b[39m(row, column(M2, c))) \u001b[38;5;28;01mfor\u001b[39;00m c \u001b[38;5;129;01min\u001b[39;00m \u001b[38;5;28mrange\u001b[39m(\u001b[38;5;28mlen\u001b[39m(M2[\u001b[38;5;241m0\u001b[39m]))]\n\u001b[1;32m     82\u001b[0m     \u001b[38;5;28;01mfor\u001b[39;00m row \u001b[38;5;129;01min\u001b[39;00m M1\n\u001b[1;32m     83\u001b[0m ]\n",
      "\u001b[0;31mKeyboardInterrupt\u001b[0m: "
     ]
    }
   ],
   "source": [
    "# See how long it takes!\n",
    "gauss_algorithm_iterative(Big_Matrix)"
   ]
  },
  {
   "cell_type": "markdown",
   "id": "60fbc20e",
   "metadata": {},
   "source": [
    "## Appendix, more code samples"
   ]
  },
  {
   "cell_type": "markdown",
   "id": "4e77be79",
   "metadata": {},
   "source": [
    "\n",
    "### Functional Paradigm / Category Theory\n",
    "\n",
    "- `map` applies a function on `a` to a list of `a`s:\n",
    "```map(increment, [1,2,3]) -> [increment(2), increment(3), increment(4)] -> [2,3,4]```\n",
    "- `reduce` / `fold` combines two elements of a list and accumulates the result\n",
    "  `fold(add, [1,2,3]) -> add(add(1,2),3)` -> 6\n",
    "- `zip` two lists, pairs them up: `zip([1,2], [10,20]) -> [(1,10), (2,20)]`\n",
    "- `filter` takes a property function and a list and returns only those elements that match the property.\n"
   ]
  },
  {
   "cell_type": "markdown",
   "id": "a634d4e6",
   "metadata": {},
   "source": [
    "### inverting, asserting identity, non-invertible"
   ]
  },
  {
   "cell_type": "code",
   "execution_count": 47,
   "id": "120965ed",
   "metadata": {},
   "outputs": [
    {
     "name": "stdout",
     "output_type": "stream",
     "text": [
      "1\t2\t3\n",
      "2\t0\t1\n",
      "1\t2\t5\n",
      "\n",
      "1\t2\t3\n",
      "2\t0\t1\n",
      "1\t2\t5\n",
      "\n",
      "0.25\t0.50\t-0.25\n",
      "1.12\t-0.25\t-0.62\n",
      "-0.50\t0.00\t0.50\n",
      "\n",
      "1.00\t0.00\t0.00\n",
      "0.00\t1.00\t0.00\n",
      "0.00\t0.00\t1.00\n",
      "\n"
     ]
    }
   ],
   "source": [
    "simpleM = [ [1,2,3], [2,0,1], [1,2,5] ]\n",
    "\n",
    "show(simpleM)\n",
    "show(mult(I(len(simpleM)), simpleM))\n",
    "\n",
    "show(inverse(simpleM))\n",
    "show(mult(simpleM, inverse(simpleM))) # == id\n",
    "\n",
    "assert is_identity_matrix(mult(simpleM, inverse(simpleM)))"
   ]
  },
  {
   "cell_type": "code",
   "execution_count": 48,
   "id": "ff182ba1",
   "metadata": {
    "scrolled": true
   },
   "outputs": [
    {
     "name": "stdout",
     "output_type": "stream",
     "text": [
      "1\t0\t0\n",
      "0\t1\t0\n",
      "0\t0\t1\n",
      "\n"
     ]
    }
   ],
   "source": [
    "show(I(len(simpleM)))"
   ]
  },
  {
   "cell_type": "code",
   "execution_count": 49,
   "id": "f9856f16",
   "metadata": {},
   "outputs": [
    {
     "name": "stdout",
     "output_type": "stream",
     "text": [
      "Bring the following matrix to row_echelon form:\n",
      "\n",
      "1\t2\t3\n",
      "0\t0\t1\n",
      "1\t2\t5\n",
      "\n",
      "\n",
      "Working on matrix of size 3 x 3\n",
      "\n",
      "-- Establish a useful toprow --\n",
      "\n",
      "No need to swap rows. Current pivot is fine\n",
      "\n",
      "\n",
      "-- Create zeroes below the pivot --\n",
      "\n",
      "Created 0 below pivot in row 3 by adding -1.0 * row 1 to it.\n",
      "\n",
      "1\t2\t3\n",
      "0\t0\t1\n",
      "0.0\t0.0\t2.0\n",
      "\n",
      "\tWorking on matrix of size 2 x 2\n",
      "\n",
      "\tSkipping at least one zero-column...\n",
      "\n",
      "\n",
      "\n",
      "Sorry, this failed. Could not invert that matrix\n",
      "\n"
     ]
    }
   ],
   "source": [
    "# not invertible\n",
    "notinvM = [ [1,2,3], [0,0,1], [1,2,5]]\n",
    "\n",
    "gauss_rec_go(notinvM)\n",
    "\n",
    "\n",
    "try:\n",
    "    show(inverse(notinvM))  # inverting fails\n",
    "except:\n",
    "    print(\"\\n\\n\\nSorry, this failed. Could not invert that matrix\\n\")"
   ]
  },
  {
   "cell_type": "markdown",
   "id": "d2c896f2",
   "metadata": {},
   "source": []
  },
  {
   "cell_type": "code",
   "execution_count": null,
   "id": "ec2315d5",
   "metadata": {},
   "outputs": [],
   "source": []
  }
 ],
 "metadata": {
  "kernelspec": {
   "display_name": "Python 3 (ipykernel)",
   "language": "python",
   "name": "python3"
  },
  "language_info": {
   "codemirror_mode": {
    "name": "ipython",
    "version": 3
   },
   "file_extension": ".py",
   "mimetype": "text/x-python",
   "name": "python",
   "nbconvert_exporter": "python",
   "pygments_lexer": "ipython3",
   "version": "3.11.2"
  }
 },
 "nbformat": 4,
 "nbformat_minor": 5
}
