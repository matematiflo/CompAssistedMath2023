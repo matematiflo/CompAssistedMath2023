{
 "cells": [
  {
   "cell_type": "markdown",
   "metadata": {},
   "source": [
    "(Alexander Huber, Seminar Computer assisted mathematics, 31.05.2023, Prof. Florent Schaffhauser)\n",
    "\n",
    "# Lanczos Algorithm"
   ]
  },
  {
   "cell_type": "code",
   "execution_count": 2,
   "metadata": {
    "collapsed": false,
    "jupyter": {
     "outputs_hidden": false,
     "source_hidden": true
    }
   },
   "outputs": [],
   "source": [
    "import random\n",
    "import warnings\n",
    "warnings.filterwarnings('ignore')\n",
    "R = RealField(150)\n",
    "\n",
    "def findOrthogonalVector(vv):\n",
    "    dim = len(vv[0])\n",
    "    \n",
    "    for i in range(dim):\n",
    "        ei = vector(CDF, [0]*dim); ei[i] = 1.0\n",
    "        ei -= sum((v*ei)*v for v in vv)\n",
    "        if ei != vector(CDF, [0]*dim):\n",
    "            return ei/ei.norm()\n",
    "    return vector(CDF, [0]*dim)\n",
    "\n",
    "def tridiagonalMatrix(alpha, beta):\n",
    "    n = len(alpha)\n",
    "    TD = diagonal_matrix(R, alpha)\n",
    "    for i in range(0,n-2):\n",
    "        TD[i+1,i] = beta[i+1]\n",
    "        TD[i,i+1] = beta[i+1]\n",
    "    return TD"
   ]
  },
  {
   "cell_type": "markdown",
   "metadata": {},
   "source": [
    "## Prerequisites\n",
    "\n",
    "#### Lemma 1: Rayleigh-Quotient\n",
    "\n",
    "Let $A \\in \\mathbb{R}^{n \\times n}$ be a symmetrical matrix, $\\lambda _{\\min}, \\lambda _{\\max} \\in \\mathbb{R}$ the smallest and largest eigenvalues of $A$. Then:\n",
    "\n",
    "$$\\lambda _{\\min} = \\min_{x \\neq 0}\\mu(x)$$\n",
    "\n",
    "$$\\lambda _{\\max} = \\max_{x \\neq 0}\\mu(x)$$\n",
    "\n",
    "where $\\mu(x) \\coloneqq\\frac{\\langle x,Ax \\rangle}{\\langle x,x \\rangle}$ denotes the Rayleigh quotient of $A$. \n",
    "\n",
    ",\n",
    " \n",
    "\n",
    "#### Corollary 2: Approximation by range of Eigenvectors\n",
    "\n",
    "Let $\\lambda_{1}\\leq...\\leq\\lambda_{n}$ be the Eigenvalues of $A\\in\\mathbb{R}^{n\\times n}, \\eta_{1},...,\\eta_{n}$ the respective Eigenvectors.\n",
    "Then:\n",
    "\n",
    "$$\\lambda_{i} = \\min_{x \\in span(\\eta_{i},...,\\eta_{n})}\\mu(x)\\,=\\,\\max_{x \\in span(\\eta_{1},...,\\eta_{i})}\\mu(x). $$\n",
    "\n"
   ]
  },
  {
   "cell_type": "code",
   "execution_count": 3,
   "metadata": {
    "collapsed": false,
    "jupyter": {
     "outputs_hidden": false
    }
   },
   "outputs": [
    {
     "data": {
      "text/html": [
       "<html>\\(\\displaystyle \\left(\\begin{array}{rrr}\n",
       "1 & 0 & 1 \\\\\n",
       "0 & 1 & 1 \\\\\n",
       "1 & 1 & 2\n",
       "\\end{array}\\right)\\)</html>"
      ],
      "text/latex": [
       "$\\displaystyle \\left(\\begin{array}{rrr}\n",
       "1 & 0 & 1 \\\\\n",
       "0 & 1 & 1 \\\\\n",
       "1 & 1 & 2\n",
       "\\end{array}\\right)$"
      ],
      "text/plain": [
       "[1 0 1]\n",
       "[0 1 1]\n",
       "[1 1 2]"
      ]
     },
     "execution_count": 3,
     "metadata": {},
     "output_type": "execute_result"
    }
   ],
   "source": [
    "# Function returning Rayleigh-Quotient\n",
    "def rayleigh(A,x):\n",
    "    return x.dot_product(A*x)//x.dot_product(x)\n",
    "\n",
    "# Define symmetric Matrix with preknown Eigenvalues 0, 1, 3\n",
    "A = Matrix(QQ, [[1,0,1],[0,1,1],[1,1,2]])\n",
    "show(A)"
   ]
  },
  {
   "cell_type": "code",
   "execution_count": 4,
   "metadata": {
    "collapsed": false,
    "jupyter": {
     "outputs_hidden": false
    }
   },
   "outputs": [],
   "source": [
    "# Create random vectors in Field Q^3 and compute their Rayleigh-Coefficients\n",
    "space = VectorSpace(QQ, 3)\n",
    "rq = []\n",
    "vec = []\n",
    "for i in range(1,1000):\n",
    "    x = space.random_element()\n",
    "    if x.dot_product(x) != 0.:\n",
    "        rq.append(rayleigh(A,x))\n",
    "        vec.append(x)"
   ]
  },
  {
   "cell_type": "code",
   "execution_count": 5,
   "metadata": {
    "collapsed": false,
    "jupyter": {
     "outputs_hidden": false
    }
   },
   "outputs": [
    {
     "name": "stdout",
     "output_type": "stream",
     "text": [
      "Minimum Rayleigh Coefficient:  0\n",
      "Maximum Rayleigh Coefficient:  3\n"
     ]
    }
   ],
   "source": [
    "# Find Vectors corresponding to the minimum, middle and maximum value\n",
    "minvec = vec[rq.index(min(rq))]\n",
    "midvec = vec[rq.index(1)]\n",
    "maxvec = vec[rq.index(max(rq))]\n",
    "\n",
    "print(\"Minimum Rayleigh Coefficient:  \" + str(min(rq)))\n",
    "print(\"Maximum Rayleigh Coefficient:  \" + str(max(rq)))"
   ]
  },
  {
   "cell_type": "code",
   "execution_count": 6,
   "metadata": {
    "collapsed": false,
    "jupyter": {
     "outputs_hidden": false
    }
   },
   "outputs": [
    {
     "name": "stdout",
     "output_type": "stream",
     "text": [
      "Vector corresponding to maximum value:  (-1/2, -1/2, -1)\n",
      "maxvec*A:    (-3/2, -3/2, -3)\n",
      "\n",
      "Vector corresponding to minimum value:  (1, 1, -1)\n",
      "minvec*A:    (0, 0, 0)\n"
     ]
    }
   ],
   "source": [
    "print(\"Vector corresponding to maximum value:  \"+str(maxvec))\n",
    "print(\"maxvec*A:    \"+str((maxvec*A)))\n",
    "print(\"\\nVector corresponding to minimum value:  \"+str(minvec))\n",
    "print(\"minvec*A:    \"+str((minvec*A)))\n",
    "\n"
   ]
  },
  {
   "cell_type": "markdown",
   "metadata": {},
   "source": [
    "#### Basic idea\n",
    "\n",
    "##### Approximate Eigenvalues by solving the extreme value problem for the Rayleigh-Quotient on a sequence of Subspaces $V_{1}\\subset V_{2}\\subset ... \\subset \\mathbb{R}^{n}$\n",
    "\n"
   ]
  },
  {
   "cell_type": "markdown",
   "metadata": {},
   "source": [
    "#### Lemma 3: Approximation with Krylov Spaces\n",
    "\n",
    "Let $x\\neq 0, k=1,2,....$ , let $V_{k}(x)\\coloneqq span\\{x,Ax,...,A^{k-1}x\\}$ be a Krylov Subspace. \n",
    "Then:\n",
    "\n",
    "$$\\lambda_{min}^{(k)}\\coloneqq \\min_{y \\in V_{k}(x)}\\mu(y)\\geq\\lambda_{min}^{(k+1)}\\geq  \\lambda_{min}$$\n",
    "\n",
    "$$\\lambda_{max}^{(k)}\\coloneqq \\max_{y \\in V_{k}(x)}\\mu(y)\\leq\\lambda_{max}^{(k+1)}\\leq \\lambda_{max}$$."
   ]
  },
  {
   "cell_type": "markdown",
   "metadata": {},
   "source": [
    "## Concept of Lanczos' Method\n",
    "\n",
    "Compute Orthonormal Basis $v_{1}, ... , v_{k}$ of $V_{k}(x)$ iteratively:\n",
    "\n",
    "$$v_{0}\\coloneqq 0, \\,\\, v_{1}\\coloneqq \\frac{x}{||x||_{2}},$$\n",
    "$$\\alpha_{k}\\coloneqq\\langle v_{k},Av_{k}\\rangle,$$\n",
    "$$w_{k+1}\\coloneqq Av_{k}-\\alpha_{k}v_{k}-\\beta_{k}v_{k-1},$$\n",
    "$$\\beta_{k+1}\\coloneqq ||w_{k+1}||_{2},$$\n",
    "$$v_{k+1}\\coloneqq \\frac{w_{k+1}}{\\beta_{k+1}}\\,\\,\\,\\,\\,\\, if\\,\\,\\, \\beta_{k+1}\\neq0$$\n"
   ]
  },
  {
   "cell_type": "code",
   "execution_count": 7,
   "metadata": {
    "collapsed": false,
    "jupyter": {
     "outputs_hidden": false
    }
   },
   "outputs": [],
   "source": [
    "def lanczos(iters, A):\n",
    "    # Initiation\n",
    "    n = A.nrows()\n",
    "    alpha = vector(RDF, [0]*iters)\n",
    "    beta = vector(RDF, [0]*(iters))\n",
    "    Q = [vector(RDF, [0]*n) for _ in range(iters)]\n",
    "    \n",
    "    Q[0][0] = 1.0\n",
    "    alpha[0] = Q[0]*A*Q[0]\n",
    "    w = A*Q[0] - alpha[0]*Q[0]\n",
    "    beta[0] = w.norm()\n",
    "    if beta == 0:\n",
    "        Q[1] = findOrthogonalVector((Q[0],))\n",
    "    else:\n",
    "        Q[1] = w/beta[0]\n",
    "    alpha[1] = Q[1]*A*Q[1]    \n",
    "    \n",
    "    #Iteration\n",
    "    for i in range(2,iters):\n",
    "        w = A*Q[i-1]-alpha[i-1]*Q[i-1]-beta[i-2]*Q[i-2]\n",
    "        beta[i-1] = w.norm()\n",
    "        if beta[i-1] != 0:\n",
    "            Q[i] = w/beta[i-1]\n",
    "        else:\n",
    "            Q[i] = findOrthogonalVector(Q[range(0,i)])\n",
    "    alpha[iters-1] = (Q[iters-1]*A)*Q[iters-1]\n",
    "    \n",
    "    return({'alpha': alpha, 'beta': beta, 'basis': matrix(RDF,Q)})"
   ]
  },
  {
   "cell_type": "markdown",
   "metadata": {},
   "source": [
    "###### Test method on matrix A, computing $Q_{k}\\coloneqq [v_{1},...,v_{k}]$ and $T_{k} = \\begin{pmatrix}\\alpha_{1} & \\beta_{2} & 0\\\\\\beta_{2} & \\alpha_{2} & \\beta_{3}\\\\ 0 & \\beta_{3} & \\alpha_{3}\\end{pmatrix}$"
   ]
  },
  {
   "cell_type": "code",
   "execution_count": 8,
   "metadata": {
    "collapsed": false,
    "jupyter": {
     "outputs_hidden": false
    }
   },
   "outputs": [
    {
     "data": {
      "text/html": [
       "<html>\\(\\displaystyle \\left(\\begin{array}{rrr}\n",
       "1.0 & 1.0 & 0.00 \\\\\n",
       "1.0 & 2.0 & 0.00 \\\\\n",
       "0.00 & 0.00 & 1.0\n",
       "\\end{array}\\right)\\)</html>"
      ],
      "text/latex": [
       "$\\displaystyle \\left(\\begin{array}{rrr}\n",
       "1.0 & 1.0 & 0.00 \\\\\n",
       "1.0 & 2.0 & 0.00 \\\\\n",
       "0.00 & 0.00 & 1.0\n",
       "\\end{array}\\right)$"
      ],
      "text/plain": [
       "[ 1.0  1.0 0.00]\n",
       "[ 1.0  2.0 0.00]\n",
       "[0.00 0.00  1.0]"
      ]
     },
     "execution_count": 8,
     "metadata": {},
     "output_type": "execute_result"
    }
   ],
   "source": [
    "# Lanczos with 3 iterations\n",
    "res_A = lanczos(3, A)\n",
    "\n",
    "A_tri = tridiagonalMatrix(res_A['alpha'],res_A['beta'])\n",
    "show(A_tri.n(digits=2))"
   ]
  },
  {
   "cell_type": "markdown",
   "metadata": {},
   "source": [
    "###### With exact arithmetic, $Q_{n}AQ_{n}^{T} = T_{n}$ holds, where Q is an orthonormal matrix, thus $QQ^{T}=Id$"
   ]
  },
  {
   "cell_type": "code",
   "execution_count": 9,
   "metadata": {
    "collapsed": false,
    "jupyter": {
     "outputs_hidden": false
    }
   },
   "outputs": [
    {
     "data": {
      "text/html": [
       "<html>\\(\\displaystyle \\left(\\begin{array}{rrr}\n",
       "1.0 & 1.0 & 0.00 \\\\\n",
       "1.0 & 2.0 & 1.0 \\\\\n",
       "0.00 & 1.0 & 1.0\n",
       "\\end{array}\\right)\\)</html>"
      ],
      "text/latex": [
       "$\\displaystyle \\left(\\begin{array}{rrr}\n",
       "1.0 & 1.0 & 0.00 \\\\\n",
       "1.0 & 2.0 & 1.0 \\\\\n",
       "0.00 & 1.0 & 1.0\n",
       "\\end{array}\\right)$"
      ],
      "text/plain": [
       "[ 1.0  1.0 0.00]\n",
       "[ 1.0  2.0  1.0]\n",
       "[0.00  1.0  1.0]"
      ]
     },
     "execution_count": 9,
     "metadata": {},
     "output_type": "execute_result"
    },
    {
     "name": "stdout",
     "output_type": "stream",
     "text": [
      "\n",
      " \n",
      "\n"
     ]
    },
    {
     "data": {
      "text/html": [
       "<html>\\(\\displaystyle \\left(\\begin{array}{rrr}\n",
       "1.0 & 0.00 & 0.00 \\\\\n",
       "0.00 & 1.0 & 0.00 \\\\\n",
       "0.00 & 0.00 & 1.0\n",
       "\\end{array}\\right)\\)</html>"
      ],
      "text/latex": [
       "$\\displaystyle \\left(\\begin{array}{rrr}\n",
       "1.0 & 0.00 & 0.00 \\\\\n",
       "0.00 & 1.0 & 0.00 \\\\\n",
       "0.00 & 0.00 & 1.0\n",
       "\\end{array}\\right)$"
      ],
      "text/plain": [
       "[ 1.0 0.00 0.00]\n",
       "[0.00  1.0 0.00]\n",
       "[0.00 0.00  1.0]"
      ]
     },
     "execution_count": 9,
     "metadata": {},
     "output_type": "execute_result"
    }
   ],
   "source": [
    "Q = res_A['basis']\n",
    "\n",
    "show((Q*A*Q.transpose()).n(digits=2))\n",
    "print(\"\\n \\n\")\n",
    "show((Q*Q.transpose()).n(digits=2))\n"
   ]
  },
  {
   "cell_type": "markdown",
   "metadata": {},
   "source": [
    "###### Comparison between the exact Eigenvalues of A and T:"
   ]
  },
  {
   "cell_type": "code",
   "execution_count": 10,
   "metadata": {
    "collapsed": false,
    "jupyter": {
     "outputs_hidden": false
    }
   },
   "outputs": [
    {
     "data": {
      "text/html": [
       "<html>\\(\\displaystyle \\left[2.6180339887498948482045868343656381177203092, 1.0000000000000000000000000000000000000000000, 0.38196601125010515179541316563436188227969082\\right]\\)</html>"
      ],
      "text/latex": [
       "$\\displaystyle \\left[2.6180339887498948482045868343656381177203092, 1.0000000000000000000000000000000000000000000, 0.38196601125010515179541316563436188227969082\\right]$"
      ],
      "text/plain": [
       "[2.6180339887498948482045868343656381177203092, 1.0000000000000000000000000000000000000000000, 0.38196601125010515179541316563436188227969082]"
      ]
     },
     "execution_count": 10,
     "metadata": {},
     "output_type": "execute_result"
    },
    {
     "data": {
      "text/html": [
       "<html>\\(\\displaystyle \\left[3, 1, 0\\right]\\)</html>"
      ],
      "text/latex": [
       "$\\displaystyle \\left[3, 1, 0\\right]$"
      ],
      "text/plain": [
       "[3, 1, 0]"
      ]
     },
     "execution_count": 10,
     "metadata": {},
     "output_type": "execute_result"
    }
   ],
   "source": [
    "show(A_tri.eigenvalues())\n",
    "show(A.eigenvalues())"
   ]
  },
  {
   "cell_type": "markdown",
   "metadata": {},
   "source": [
    "#### Application on large sparse symmetric matrices"
   ]
  },
  {
   "cell_type": "code",
   "execution_count": 11,
   "metadata": {
    "collapsed": false,
    "jupyter": {
     "outputs_hidden": false
    },
    "scrolled": true
   },
   "outputs": [
    {
     "name": "stdout",
     "output_type": "stream",
     "text": [
      "k = 10:     4.154545\n",
      "k = 20:     4.403183\n",
      "k = 30:     4.403388\n",
      "k = 40:     4.403391\n",
      "k = 50:     4.404257\n",
      "k = 60:     4.40426\n",
      "k = 70:     4.404346\n",
      "\n",
      "Maximum Eigenvalue approximated by built-in function:    4.404059\n"
     ]
    }
   ],
   "source": [
    "ms = MatrixSpace(R, 70)\n",
    "random.seed(int(46))\n",
    "M = ms.random_element(density=0.1)\n",
    "M = M + M.transpose()\n",
    "\n",
    "result = {}\n",
    "for k in range(10,80,10):\n",
    "    temp = lanczos(k,M)\n",
    "    T_temp = tridiagonalMatrix(temp['alpha'],temp['beta'])\n",
    "    result['k='+str(k)] = T_temp.eigenvalues()\n",
    "    print(\"k = \"+str(k)+\":     \"  +str(round(max(result['k='+str(k)]),6)))\n",
    "\n",
    "print(\"\\nMaximum Eigenvalue approximated by built-in function:    \" + str(round(max(M.eigenvalues()),6)))"
   ]
  }
 ],
 "metadata": {
  "kernelspec": {
   "display_name": "Python 3 (ipykernel)",
   "language": "python",
   "name": "python3"
  },
  "language_info": {
   "codemirror_mode": {
    "name": "ipython",
    "version": 3
   },
   "file_extension": ".py",
   "mimetype": "text/x-python",
   "name": "python",
   "nbconvert_exporter": "python",
   "pygments_lexer": "ipython3",
   "version": "3.11.2"
  }
 },
 "nbformat": 4,
 "nbformat_minor": 4
}
