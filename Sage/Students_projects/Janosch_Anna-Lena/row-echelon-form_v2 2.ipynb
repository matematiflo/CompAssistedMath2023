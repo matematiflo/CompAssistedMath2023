{
 "cells": [
  {
   "attachments": {},
   "cell_type": "markdown",
   "metadata": {},
   "source": [
    "# Row Echelon Form Generator"
   ]
  },
  {
   "attachments": {},
   "cell_type": "markdown",
   "metadata": {},
   "source": [
    "In this project we want to enter a matrix $A \\in \\mathrm{Mat}( n \\times m; \\mathbb{Q} )$ of any $n,m \\in \\mathbb{N}$, calculate which row operations must be executed to reach the row echelon form $A'$ and then output a matrix $E$, so that $A' = E * A$, as well as the different row operations."
   ]
  },
  {
   "attachments": {},
   "cell_type": "markdown",
   "metadata": {},
   "source": [
    "### The MATH behind it"
   ]
  },
  {
   "attachments": {},
   "cell_type": "markdown",
   "metadata": {},
   "source": [
    "Every row operation can be viewed as a left multiplication with an elementary matrix. There are the following three row operations with their corresponding matrix:\n",
    "\n",
    "First let's define a matrix $E^{(i,j)} \\in \\mathrm{Mat}( n \\times n; \\mathbb{Q} )$, where $l,k \\in \\{1, ..., n\\}$:\n",
    "$$\n",
    "\\begin{equation*}\n",
    "    E^{(i,j)} := (e^{(i,j)}_{p,q})_{\\substack{1 \\leq p \\leq n \\\\ 1 \\leq q \\leq n}} \\text{ where }\n",
    "    e^{(i,j)}_{p,q} := \n",
    "    \\begin{cases}\n",
    "        1 \\text{, if } p=k \\text{ and } q=l\\\\\n",
    "        0 \\text{, else }\\\\\n",
    "    \\end{cases}\n",
    "\\end{equation*}\n",
    "$$\n",
    "\n",
    "Then we can now define our elementary matrices $\\left(i \\neq j \\in \\{1, ..., n\\}, \\lambda \\in \\mathbb{Q} - \\{0\\}\\right)$.\\\n",
    "The First one is **S**wapping two rows $R_i \\leftrightarrow R_j$:\n",
    "$$\n",
    "\\begin{equation*}\n",
    "    S^{(i,j)} := 1_n - E^{(i,i)}- E^{(j,j)} + E^{(i,j)} + E^{(j,i)}\n",
    "\\end{equation*}\n",
    "$$\n",
    "\n",
    "The Second one is **M**ultiplying a row by a nonzero number $\\lambda R_i \\rightarrow R_i$:\n",
    "$$\n",
    "\\begin{equation*}\n",
    "    M^{(i)}_{\\lambda} := 1_n + (\\lambda - 1) E^{(i,i)}\n",
    "\\end{equation*}\n",
    "$$\n",
    "\n",
    "The Third one is **A**dding a multiple of one row to another row $\\lambda R_i + R_j \\rightarrow R_j$:\n",
    "$$\n",
    "\\begin{equation*}\n",
    "    A^{(i,j)}_{\\lambda} := 1_n + \\lambda E^{(i,j)}\n",
    "\\end{equation*}\n",
    "$$"
   ]
  },
  {
   "attachments": {},
   "cell_type": "markdown",
   "metadata": {},
   "source": [
    "Let now $F := \\begin{cases} S^{(i,j)} \\\\  M^{(i)}_{\\lambda} \\\\ A^{(i,j)}_{\\lambda} \\\\ \\end{cases} $\\\n",
    "Because we just have to apply the three row operations to a matrix to receive the row echelon form, we can conclude the following, where  $a$ is the total number of applied row operations and $F_b, b \\in \\{1,...,a\\}$ is the corresponding elementary matrix.\n",
    "$$\n",
    "\\begin{equation*}\n",
    "    A' = F_a * (F_{a-1} * (... * (F_1 * A)...))\n",
    "\\end{equation*}\n",
    "$$\n",
    "\n",
    "Due to the associativity of matrix multiplication we can now conclude:\n",
    "$$\n",
    "\\begin{align*}\n",
    "    A' &= F_a * F_{a-1} * ... * F_1 * A \\\\\n",
    "       &= (F_a * F_{a-1} * ... * F_1) * A \\\\\n",
    "       &= E * A\n",
    "\\end{align*}\n",
    "$$\n",
    "Of course $E := (F_a * F_{a-1} * ... * F_1)$. So now we found out how to calculate our matrix $E$."
   ]
  },
  {
   "attachments": {},
   "cell_type": "markdown",
   "metadata": {},
   "source": [
    "### Initiate matrix"
   ]
  },
  {
   "attachments": {},
   "cell_type": "markdown",
   "metadata": {},
   "source": [
    "You have to input the matrix $A$ manually. Choose any dimensions, but values are in $\\mathbb{Q}$."
   ]
  },
  {
   "cell_type": "code",
   "execution_count": 99,
   "metadata": {},
   "outputs": [
    {
     "data": {
      "text/html": [
       "<html><script type=\"math/tex; mode=display\">\\left(\\begin{array}{rrrrrrr}\n",
       "4 & 6 & 1 & 9 & 4 & 2 & 7 \\\\\n",
       "3 & 8 & 2 & 5 & 1 & 0 & 6 \\\\\n",
       "7 & 8 & 9 & 0 & 3 & 4 & 2 \\\\\n",
       "9 & 0 & 6 & 3 & 4 & 7 & 5\n",
       "\\end{array}\\right)</script></html>"
      ],
      "text/latex": [
       "$$\\left(\\begin{array}{rrrrrrr}\n",
       "4 & 6 & 1 & 9 & 4 & 2 & 7 \\\\\n",
       "3 & 8 & 2 & 5 & 1 & 0 & 6 \\\\\n",
       "7 & 8 & 9 & 0 & 3 & 4 & 2 \\\\\n",
       "9 & 0 & 6 & 3 & 4 & 7 & 5\n",
       "\\end{array}\\right)$$"
      ],
      "text/plain": [
       "[4 6 1 9 4 2 7]\n",
       "[3 8 2 5 1 0 6]\n",
       "[7 8 9 0 3 4 2]\n",
       "[9 0 6 3 4 7 5]"
      ]
     },
     "metadata": {},
     "output_type": "display_data"
    }
   ],
   "source": [
    "from IPython.display import Latex as tex\n",
    "\n",
    "# input matrix A manually\n",
    "A = matrix(QQ, [[0, 2, 3], [4, 5, 6], [7, 8, 9]])\n",
    "#A = matrix(QQ, [[4, 6, 1, 9, 4, 2, 7], [3, 8, 2, 5, 1, 0, 6], [7, 8, 9, 0, 3, 4, 2], [9, 0, 6, 3, 4, 7, 5]])\n",
    "# calculate the number of rows\n",
    "n = A.nrows()\n",
    "\n",
    "# print the matrix and save it as M to operate on\n",
    "show(A)\n",
    "M = A\n",
    "\n",
    "# create the matrix E and set it to an nxn identity matrix \n",
    "E = identity_matrix(n)"
   ]
  },
  {
   "attachments": {},
   "cell_type": "markdown",
   "metadata": {},
   "source": [
    "### Test if a matrix is in row-echelon form (function)"
   ]
  },
  {
   "attachments": {},
   "cell_type": "markdown",
   "metadata": {},
   "source": [
    "As a little subproject we also defined a function which calculates whether a given matrix is in row echelon form. Our solution to that is quite neat."
   ]
  },
  {
   "cell_type": "code",
   "execution_count": 100,
   "metadata": {},
   "outputs": [],
   "source": [
    "# function that tests whether a matrix B is in row echelon form \n",
    "\n",
    "def is_in_row_ech_form(B):\n",
    "    # sage gives you the columns of the pivots, we add an imaginary extra pivot, so we can always calculate the difference to the next pivot, or the end of the matrix\n",
    "    pivots = list(B.pivots())\n",
    "    pivots.append(B.ncols())\n",
    "\n",
    "    # iterate over the pivot columns\n",
    "    for i in range(0, len(pivots)-1):\n",
    "        # generate a zero matrix with k columns and l rows, where k is the difference between the currently observed pivot and the next pivot, and l is the number of rows of B minus the row after the currently observed pivot (i+1)\n",
    "        Zero = zero_matrix(B.nrows() - i - 1, pivots[i+1] - pivots[i])\n",
    "\n",
    "        # define a submatrix that reaches from under the current pivot to the next one\n",
    "        matrix_under_pivot = B[i+1:,pivots[i]:pivots[i+1]]\n",
    "        \n",
    "        # test if this submatrix is a zero matrix\n",
    "        if(Zero != matrix_under_pivot):\n",
    "            return(False)\n",
    "    return(True)"
   ]
  },
  {
   "cell_type": "code",
   "execution_count": 101,
   "metadata": {},
   "outputs": [
    {
     "data": {
      "text/html": [
       "<html><script type=\"math/tex; mode=display\">\\mathrm{False}</script></html>"
      ],
      "text/latex": [
       "$$\\mathrm{False}$$"
      ],
      "text/plain": [
       "False"
      ]
     },
     "metadata": {},
     "output_type": "display_data"
    }
   ],
   "source": [
    "# print wheter the matrix A is in row echelon form or not\n",
    "show(is_in_row_ech_form(A))"
   ]
  },
  {
   "attachments": {},
   "cell_type": "markdown",
   "metadata": {},
   "source": [
    "### Calculate the row echelon form"
   ]
  },
  {
   "attachments": {},
   "cell_type": "markdown",
   "metadata": {},
   "source": [
    "As described in the MATH part, we can now just calculate $E$ by finding out which row operation should be the next. We then left multiply the elementary matrix with our matrix $A$ in order to know which operations have been done already."
   ]
  },
  {
   "cell_type": "code",
   "execution_count": 102,
   "metadata": {},
   "outputs": [],
   "source": [
    "# initiate the list of pivots and the array for the row operations\n",
    "pivots = list(M.pivots())\n",
    "operations = []"
   ]
  },
  {
   "cell_type": "code",
   "execution_count": 103,
   "metadata": {},
   "outputs": [],
   "source": [
    "for i in range(0, len(pivots)):\n",
    "    pivots[i]\n",
    "    # first we check if number where the pivot should be equals zero. if so we swap it with the next row\n",
    "    if(M[i , pivots[i]] == 0):\n",
    "        for j in range(i+1, n):\n",
    "            if(M[j , pivots[i]] != 0):\n",
    "                F = elementary_matrix(n, row1=i, row2=j )\n",
    "                M = F * M\n",
    "                E = F * E\n",
    "                ##operations.append(\"swap row \" + str(i) + \" with row \" + str(i))\n",
    "                operations.append(\"$R_{\" + str(i+1) + \"} \\\\leftrightarrow R_{\" + str(j+1) + \"}$\")\n",
    "                break\n",
    "    \n",
    "    # if the pivot element does not equal 1 we multiply the row by the inverse to make following operations easier\n",
    "    if(M[i , pivots[i]] != 1):\n",
    "        denomenator = M[i , pivots[i]]\n",
    "        F = elementary_matrix(n, row1=i, scale=(1 / denomenator) )\n",
    "        M = F * M\n",
    "        E = F * E\n",
    "        ##operations.append(\"multiply row1 with inverse of pivot\")\n",
    "        operations.append(\"$\" + latex(1 / denomenator) + \" R_{\" + str(i+1) + \"} \\\\rightarrow R_{\" + str(i+1) + \"}$\")\n",
    "    \n",
    "    # at last we make everything under the pivot zero\n",
    "    for j in range(i+1, n): #Null-mach-Schleife\n",
    "        denomenator = -M[j , pivots[i]]\n",
    "        if(denomenator != 0):\n",
    "            if(denomenator !=1):\n",
    "                F = elementary_matrix(n, row1=j, scale=(1 / denomenator) )\n",
    "                M = F * M\n",
    "                E = F * E\n",
    "                ##operations.append(\"multiply row1 with inverse of pivot\")\n",
    "                operations.append(\"$\" + latex(1 / denomenator) + \" R_{\" + str(i+1) + \"} \\\\rightarrow R_{\" + str(i+1) + \"}$\")\n",
    "\n",
    "            F = elementary_matrix(n, row1=j, row2=i, scale=1)\n",
    "            M = F * M\n",
    "            E = F * E\n",
    "            ##operations.append(\"add row1 times factor to row2\")\n",
    "            operations.append(\"$\" + \" R_{\" + str(i+1) + \"} + R_{\" + str(j+1) + \"} \\\\rightarrow R_{\" + str(j+1) + \"}$\")\n",
    "        "
   ]
  },
  {
   "attachments": {},
   "cell_type": "markdown",
   "metadata": {},
   "source": [
    "### Output the results"
   ]
  },
  {
   "cell_type": "code",
   "execution_count": 104,
   "metadata": {},
   "outputs": [
    {
     "data": {
      "text/html": [
       "Matrix A', the row echelon form of A:"
      ],
      "text/plain": [
       "\"Matrix A', the row echelon form of A:\""
      ]
     },
     "metadata": {},
     "output_type": "display_data"
    },
    {
     "data": {
      "text/html": [
       "<html><script type=\"math/tex; mode=display\">\\left(\\begin{array}{rrrrrrr}\n",
       "1 & \\frac{3}{2} & \\frac{1}{4} & \\frac{9}{4} & 1 & \\frac{1}{2} & \\frac{7}{4} \\\\\n",
       "0 & 1 & \\frac{5}{14} & -\\frac{1}{2} & -\\frac{4}{7} & -\\frac{3}{7} & \\frac{3}{14} \\\\\n",
       "0 & 0 & 1 & -\\frac{119}{57} & -\\frac{2}{3} & -\\frac{4}{57} & -\\frac{68}{57} \\\\\n",
       "0 & 0 & 0 & 1 & \\frac{133}{116} & \\frac{51}{116} & -\\frac{45}{116}\n",
       "\\end{array}\\right)</script></html>"
      ],
      "text/latex": [
       "$$\\left(\\begin{array}{rrrrrrr}\n",
       "1 & \\frac{3}{2} & \\frac{1}{4} & \\frac{9}{4} & 1 & \\frac{1}{2} & \\frac{7}{4} \\\\\n",
       "0 & 1 & \\frac{5}{14} & -\\frac{1}{2} & -\\frac{4}{7} & -\\frac{3}{7} & \\frac{3}{14} \\\\\n",
       "0 & 0 & 1 & -\\frac{119}{57} & -\\frac{2}{3} & -\\frac{4}{57} & -\\frac{68}{57} \\\\\n",
       "0 & 0 & 0 & 1 & \\frac{133}{116} & \\frac{51}{116} & -\\frac{45}{116}\n",
       "\\end{array}\\right)$$"
      ],
      "text/plain": [
       "[      1     3/2     1/4     9/4       1     1/2     7/4]\n",
       "[      0       1    5/14    -1/2    -4/7    -3/7    3/14]\n",
       "[      0       0       1 -119/57    -2/3   -4/57  -68/57]\n",
       "[      0       0       0       1 133/116  51/116 -45/116]"
      ]
     },
     "metadata": {},
     "output_type": "display_data"
    },
    {
     "data": {
      "text/html": [
       "Matrix E, with A' = E * A:"
      ],
      "text/plain": [
       "\"Matrix E, with A' = E * A:\""
      ]
     },
     "metadata": {},
     "output_type": "display_data"
    },
    {
     "data": {
      "text/html": [
       "<html><script type=\"math/tex; mode=display\">\\left(\\begin{array}{rrrr}\n",
       "\\frac{1}{4} & 0 & 0 & 0 \\\\\n",
       "-\\frac{3}{14} & \\frac{2}{7} & 0 & 0 \\\\\n",
       "-\\frac{16}{57} & \\frac{5}{57} & \\frac{7}{57} & 0 \\\\\n",
       "\\frac{13}{29} & -\\frac{59}{116} & \\frac{5}{29} & -\\frac{19}{116}\n",
       "\\end{array}\\right)</script></html>"
      ],
      "text/latex": [
       "$$\\left(\\begin{array}{rrrr}\n",
       "\\frac{1}{4} & 0 & 0 & 0 \\\\\n",
       "-\\frac{3}{14} & \\frac{2}{7} & 0 & 0 \\\\\n",
       "-\\frac{16}{57} & \\frac{5}{57} & \\frac{7}{57} & 0 \\\\\n",
       "\\frac{13}{29} & -\\frac{59}{116} & \\frac{5}{29} & -\\frac{19}{116}\n",
       "\\end{array}\\right)$$"
      ],
      "text/plain": [
       "[    1/4       0       0       0]\n",
       "[  -3/14     2/7       0       0]\n",
       "[ -16/57    5/57    7/57       0]\n",
       "[  13/29 -59/116    5/29 -19/116]"
      ]
     },
     "metadata": {},
     "output_type": "display_data"
    },
    {
     "data": {
      "text/html": [
       "Test, that E * A = A' is true"
      ],
      "text/plain": [
       "\"Test, that E * A = A' is true\""
      ]
     },
     "metadata": {},
     "output_type": "display_data"
    },
    {
     "data": {
      "text/html": [
       "<html><script type=\"math/tex; mode=display\">\\mathrm{True}</script></html>"
      ],
      "text/latex": [
       "$$\\mathrm{True}$$"
      ],
      "text/plain": [
       "True"
      ]
     },
     "metadata": {},
     "output_type": "display_data"
    }
   ],
   "source": [
    "show(\"Matrix A', the row echelon form of A:\")\n",
    "show(M)\n",
    "\n",
    "show(\"Matrix E, with A' = E * A:\")\n",
    "show(E)\n",
    "\n",
    "show(\"Test, that E * A = A' is true\")\n",
    "show(E*A==M)"
   ]
  },
  {
   "cell_type": "code",
   "execution_count": 105,
   "metadata": {
    "tags": []
   },
   "outputs": [
    {
     "data": {
      "text/latex": [
       "$ \\frac{1}{4} R_{ 1 } \\rightarrow R_{ 1 }$ \n",
       "\n",
       " $ -\\frac{1}{3} R_{ 1 } \\rightarrow R_{ 1 }$ \n",
       "\n",
       " $ R_{1} + R_{2} \\rightarrow R_{2}$\n",
       "\n",
       " $ -\\frac{1}{7} R_{ 1 } \\rightarrow R_{ 1 }$ \n",
       "\n",
       " $ R_{1} + R_{3} \\rightarrow R_{3}$\n",
       "\n",
       " $ -\\frac{1}{9} R_{ 1 } \\rightarrow R_{ 1 }$ \n",
       "\n",
       " $ R_{1} + R_{4} \\rightarrow R_{4}$\n",
       "\n",
       " $ -\\frac{6}{7} R_{ 2 } \\rightarrow R_{ 2 }$ \n",
       "\n",
       " $ -\\frac{14}{5} R_{ 2 } \\rightarrow R_{ 2 }$ \n",
       "\n",
       " $ R_{2} + R_{3} \\rightarrow R_{3}$\n",
       "\n",
       " $ -\\frac{2}{3} R_{ 2 } \\rightarrow R_{ 2 }$ \n",
       "\n",
       " $ R_{2} + R_{4} \\rightarrow R_{4}$\n",
       "\n",
       " $ \\frac{35}{114} R_{ 3 } \\rightarrow R_{ 3 }$ \n",
       "\n",
       " $ -\\frac{63}{40} R_{ 3 } \\rightarrow R_{ 3 }$ \n",
       "\n",
       " $ R_{3} + R_{4} \\rightarrow R_{4}$\n",
       "\n",
       " $ \\frac{285}{203} R_{ 4 } \\rightarrow R_{ 4 }$ \n",
       "\n"
      ],
      "text/plain": [
       "<IPython.core.display.Latex object>"
      ]
     },
     "execution_count": 105,
     "metadata": {},
     "output_type": "execute_result"
    }
   ],
   "source": [
    "# show the operations that have been used\n",
    "op_total = \"\"\n",
    "\n",
    "for op in operations:\n",
    "    op_total += (op + \"\\n\\n\")\n",
    "\n",
    "tex(op_total)"
   ]
  }
 ],
 "metadata": {
  "kernelspec": {
   "display_name": "SageMath 9.3",
   "language": "sage",
   "name": "sagemath"
  },
  "language_info": {
   "codemirror_mode": {
    "name": "ipython",
    "version": 3
   },
   "file_extension": ".py",
   "mimetype": "text/x-python",
   "name": "python",
   "nbconvert_exporter": "python",
   "pygments_lexer": "ipython3",
   "version": "3.7.10"
  }
 },
 "nbformat": 4,
 "nbformat_minor": 4
}
