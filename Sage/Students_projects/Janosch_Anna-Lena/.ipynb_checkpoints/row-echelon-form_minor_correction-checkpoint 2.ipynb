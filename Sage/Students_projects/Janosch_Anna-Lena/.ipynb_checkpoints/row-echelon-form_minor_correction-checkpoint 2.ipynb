{
 "cells": [
  {
   "cell_type": "markdown",
   "metadata": {},
   "source": [
    "# Row Echelon Form Generator"
   ]
  },
  {
   "cell_type": "markdown",
   "metadata": {},
   "source": [
    "In this project we want to enter a matrix $A \\in \\mathrm{Mat}( n \\times m; \\mathbb{Q} )$ of any $n,m \\in \\mathbb{N}$, calculate which row operations must be executed to reach the row echelon form $A'$ and then output a matrix $E$, so that $A' = E * A$, as well as the different row operations."
   ]
  },
  {
   "cell_type": "markdown",
   "metadata": {},
   "source": [
    "### The MATH behind it"
   ]
  },
  {
   "cell_type": "markdown",
   "metadata": {},
   "source": [
    "Every row operation can be viewed as a left multiplication with an elementary matrix. There are the following three row operations with their corresponding matrix:\n",
    "\n",
    "First let's define a matrix $E^{(i,j)} \\in \\mathrm{Mat}( n \\times n; \\mathbb{Q} )$, where $l,k \\in \\{1, ..., n\\}$:\n",
    "$$\n",
    "\\begin{equation*}\n",
    "    E^{(i,j)} := (e^{(i,j)}_{p,q})_{\\substack{1 \\leq p \\leq n \\\\ 1 \\leq q \\leq n}} \\text{ where }\n",
    "    e^{(i,j)}_{p,q} := \n",
    "    \\begin{cases}\n",
    "        1 \\text{, if } p=k \\text{ and } q=l\\\\\n",
    "        0 \\text{, else }\\\\\n",
    "    \\end{cases}\n",
    "\\end{equation*}\n",
    "$$\n",
    "\n",
    "Then we can now define our elementary matrices $\\left(i \\neq j \\in \\{1, ..., n\\}, \\lambda \\in \\mathbb{Q} - \\{0\\}\\right)$.\\\n",
    "The First one is **S**wapping two rows $R_i \\leftrightarrow R_j$:\n",
    "$$\n",
    "\\begin{equation*}\n",
    "    S^{(i,j)} := 1_n - E^{(i,i)}- E^{(j,j)} + E^{(i,j)} + E^{(j,i)}\n",
    "\\end{equation*}\n",
    "$$\n",
    "\n",
    "The Second one is **M**ultiplying a row by a nonzero number $\\lambda R_i \\rightarrow R_i$:\n",
    "$$\n",
    "\\begin{equation*}\n",
    "    M^{(i)}_{\\lambda} := 1_n + (\\lambda - 1) E^{(i,i)}\n",
    "\\end{equation*}\n",
    "$$\n",
    "\n",
    "The Third one is **A**dding a multiple of one row to another row $\\lambda R_i + R_j \\rightarrow R_j$:\n",
    "$$\n",
    "\\begin{equation*}\n",
    "    A^{(i,j)}_{\\lambda} := 1_n + \\lambda E^{(i,j)}\n",
    "\\end{equation*}\n",
    "$$"
   ]
  },
  {
   "cell_type": "markdown",
   "metadata": {},
   "source": [
    "Let now $F := \\begin{cases} S^{(i,j)} \\\\  M^{(i)}_{\\lambda} \\\\ A^{(i,j)}_{\\lambda} \\\\ \\end{cases} $\\\n",
    "Because we just have to apply the three row operations to a matrix to receive the row echelon form, we can conclude the following, where  $a$ is the total number of applied row operations and $F_b, b \\in \\{1,...,a\\}$ is the corresponding elementary matrix.\n",
    "$$\n",
    "\\begin{equation*}\n",
    "    A' = F_a * (F_{a-1} * (... * (F_1 * A)...))\n",
    "\\end{equation*}\n",
    "$$\n",
    "\n",
    "Due to the ~~commutativity~~ associativity of matrix multiplication we can now conclude:\n",
    "$$\n",
    "\\begin{align*}\n",
    "    A' &= F_a * F_{a-1} * ... * F_1 * A \\\\\n",
    "       &= (F_a * F_{a-1} * ... * F_1) * A \\\\\n",
    "       &= E * A\n",
    "\\end{align*}\n",
    "$$\n",
    "Of course $E := (F_a * F_{a-1} * ... * F_1)$. So now we found out how to calculate our matrix $E$."
   ]
  },
  {
   "cell_type": "markdown",
   "metadata": {},
   "source": [
    "### Initiate matrix"
   ]
  },
  {
   "cell_type": "markdown",
   "metadata": {},
   "source": [
    "You have to input the matrix $A$ manually. Choose any dimensions, but values are in $\\mathbb{Q}$."
   ]
  },
  {
   "cell_type": "code",
   "execution_count": 1,
   "metadata": {},
   "outputs": [
    {
     "data": {
      "text/html": [
       "<html>\\(\\displaystyle \\left(\\begin{array}{rrr}\n",
       "0 & 2 & 3 \\\\\n",
       "4 & 5 & 6 \\\\\n",
       "7 & 8 & 9\n",
       "\\end{array}\\right)\\)</html>"
      ],
      "text/latex": [
       "$\\displaystyle \\left(\\begin{array}{rrr}\n",
       "0 & 2 & 3 \\\\\n",
       "4 & 5 & 6 \\\\\n",
       "7 & 8 & 9\n",
       "\\end{array}\\right)$"
      ],
      "text/plain": [
       "[0 2 3]\n",
       "[4 5 6]\n",
       "[7 8 9]"
      ]
     },
     "metadata": {},
     "output_type": "display_data"
    }
   ],
   "source": [
    "from IPython.display import Latex as tex\n",
    "\n",
    "# input matrix A manually\n",
    "A = matrix(QQ, [[0, 2, 3], [4, 5, 6], [7, 8, 9]])\n",
    "#A = matrix(QQ, [[4, 6, 1, 9, 4, 2, 7], [3, 8, 2, 5, 1, 0, 6], [7, 8, 9, 0, 3, 4, 2], [9, 0, 6, 3, 4, 7, 5]])\n",
    "# calculate the number of rows\n",
    "n = A.nrows()\n",
    "\n",
    "# print the matrix and save it as M to operate on\n",
    "show(A)\n",
    "M = A\n",
    "\n",
    "# create the matrix E and set it to an nxn identity matrix \n",
    "E = identity_matrix(n)"
   ]
  },
  {
   "cell_type": "markdown",
   "metadata": {},
   "source": [
    "### Test if a matrix is in row-echelon form (function)"
   ]
  },
  {
   "cell_type": "markdown",
   "metadata": {},
   "source": [
    "As a little subproject we also defined a function which calculates whether a given matrix is in row echelon form. Our solution to that is quite neat."
   ]
  },
  {
   "cell_type": "code",
   "execution_count": 2,
   "metadata": {},
   "outputs": [],
   "source": [
    "# function that tests whether a matrix B is in row echelon form \n",
    "\n",
    "def is_in_row_ech_form(B):\n",
    "    # sage gives you the columns of the pivots, we add an imaginary extra pivot, so we can always calculate the difference to the next pivot, or the end of the matrix\n",
    "    pivots = list(B.pivots())\n",
    "    pivots.append(B.ncols())\n",
    "\n",
    "    # iterate over the pivot columns\n",
    "    for i in range(0, len(pivots)-1):\n",
    "        # generate a zero matrix with k columns and l rows, where k is the difference between the currently observed pivot and the next pivot, and l is the number of rows of B minus the row after the currently observed pivot (i+1)\n",
    "        Zero = zero_matrix(B.nrows() - i - 1, pivots[i+1] - pivots[i])\n",
    "\n",
    "        # define a submatrix that reaches from under the current pivot to the next one\n",
    "        matrix_under_pivot = B[i+1:,pivots[i]:pivots[i+1]]\n",
    "        \n",
    "        # test if this submatrix is a zero matrix\n",
    "        if(Zero != matrix_under_pivot):\n",
    "            return(False)\n",
    "    return(True)"
   ]
  },
  {
   "cell_type": "code",
   "execution_count": 3,
   "metadata": {},
   "outputs": [
    {
     "data": {
      "text/html": [
       "<html>\\(\\displaystyle \\mathrm{False}\\)</html>"
      ],
      "text/latex": [
       "$\\displaystyle \\mathrm{False}$"
      ],
      "text/plain": [
       "False"
      ]
     },
     "metadata": {},
     "output_type": "display_data"
    }
   ],
   "source": [
    "# print wheter the matrix A is in row echelon form or not\n",
    "show(is_in_row_ech_form(A))"
   ]
  },
  {
   "cell_type": "markdown",
   "metadata": {},
   "source": [
    "### Calculate the row echelon form"
   ]
  },
  {
   "cell_type": "markdown",
   "metadata": {},
   "source": [
    "As described in the MATH part, we can now just calculate $E$ by finding out which row operation should be the next. We then left multiply the elementary matrix with our matrix $A$ in order to know which operations have been done already."
   ]
  },
  {
   "cell_type": "code",
   "execution_count": 4,
   "metadata": {},
   "outputs": [],
   "source": [
    "# initiate the list of pivots and the array for the row operations\n",
    "pivots = list(M.pivots())\n",
    "operations = []"
   ]
  },
  {
   "cell_type": "code",
   "execution_count": 5,
   "metadata": {},
   "outputs": [],
   "source": [
    "for i in range(0, len(pivots)):\n",
    "    pivots[i]\n",
    "    # first we check if number where the pivot should be equals zero. if so we swap it with the next row\n",
    "    if(M[i , pivots[i]] == 0):\n",
    "        for j in range(i+1, n):\n",
    "            if(M[j , pivots[i]] != 0):\n",
    "                F = elementary_matrix(n, row1=i, row2=j )\n",
    "                M = F * M\n",
    "                E = F * E\n",
    "                ##operations.append(\"swap row \" + str(i) + \" with row \" + str(i))\n",
    "                operations.append(\"$R_{\" + str(i+1) + \"} \\\\leftrightarrow R_{\" + str(j+1) + \"}$\")\n",
    "                break\n",
    "    \n",
    "    # if the pivot element does not equal 1 we multiply the row by the inverse to make following operations easier\n",
    "    if(M[i , pivots[i]] != 1):\n",
    "        denomenator = M[i , pivots[i]]\n",
    "        F = elementary_matrix(n, row1=i, scale=(1 / denomenator) )\n",
    "        M = F * M\n",
    "        E = F * E\n",
    "        #operations.append(\"multiply row1 with inverse of pivot\")\n",
    "        operations.append(\"$\" + latex(1 / denomenator) + \" R_{\" + str(i+1) + \"} \\\\rightarrow R_{\" + str(i+1) + \"}$\")\n",
    "    \n",
    "    # at last we make everything under the pivot zero\n",
    "    for j in range(i+1, n): #Null-mach-Schleife\n",
    "        factor = -M[j , pivots[i]]\n",
    "        F = elementary_matrix(n, row1=j, row2=i, scale=factor)\n",
    "        M = F * M\n",
    "        E = F * E\n",
    "        #operations.append(\"add row1 times factor to row2\")\n",
    "        operations.append(\"$\" + latex(factor) + \" R_{\" + str(i+1) + \"} \\\\rightarrow R_{\" + str(j+1) + \"}$\")"
   ]
  },
  {
   "cell_type": "markdown",
   "metadata": {},
   "source": [
    "### Output the results"
   ]
  },
  {
   "cell_type": "code",
   "execution_count": 6,
   "metadata": {},
   "outputs": [
    {
     "data": {
      "text/html": [
       "<html>\\(\\displaystyle \\verb|Matrix|\\verb| |\\verb|A',|\\verb| |\\verb|the|\\verb| |\\verb|row|\\verb| |\\verb|echelon|\\verb| |\\verb|form|\\verb| |\\verb|of|\\verb| |\\verb|A:|\\)</html>"
      ],
      "text/latex": [
       "$\\displaystyle \\verb|Matrix|\\verb| |\\verb|A',|\\verb| |\\verb|the|\\verb| |\\verb|row|\\verb| |\\verb|echelon|\\verb| |\\verb|form|\\verb| |\\verb|of|\\verb| |\\verb|A:|$"
      ],
      "text/plain": [
       "\"Matrix A', the row echelon form of A:\""
      ]
     },
     "metadata": {},
     "output_type": "display_data"
    },
    {
     "data": {
      "text/html": [
       "<html>\\(\\displaystyle \\left(\\begin{array}{rrr}\n",
       "1 & \\frac{5}{4} & \\frac{3}{2} \\\\\n",
       "0 & 1 & \\frac{3}{2} \\\\\n",
       "0 & 0 & 1\n",
       "\\end{array}\\right)\\)</html>"
      ],
      "text/latex": [
       "$\\displaystyle \\left(\\begin{array}{rrr}\n",
       "1 & \\frac{5}{4} & \\frac{3}{2} \\\\\n",
       "0 & 1 & \\frac{3}{2} \\\\\n",
       "0 & 0 & 1\n",
       "\\end{array}\\right)$"
      ],
      "text/plain": [
       "[  1 5/4 3/2]\n",
       "[  0   1 3/2]\n",
       "[  0   0   1]"
      ]
     },
     "metadata": {},
     "output_type": "display_data"
    },
    {
     "data": {
      "text/html": [
       "<html>\\(\\displaystyle \\verb|Matrix|\\verb| |\\verb|E,|\\verb| |\\verb|with|\\verb| |\\verb|A'|\\verb| |\\verb|=|\\verb| |\\verb|E|\\verb| |\\verb|*|\\verb| |\\verb|A:|\\)</html>"
      ],
      "text/latex": [
       "$\\displaystyle \\verb|Matrix|\\verb| |\\verb|E,|\\verb| |\\verb|with|\\verb| |\\verb|A'|\\verb| |\\verb|=|\\verb| |\\verb|E|\\verb| |\\verb|*|\\verb| |\\verb|A:|$"
      ],
      "text/plain": [
       "\"Matrix E, with A' = E * A:\""
      ]
     },
     "metadata": {},
     "output_type": "display_data"
    },
    {
     "data": {
      "text/html": [
       "<html>\\(\\displaystyle \\left(\\begin{array}{rrr}\n",
       "0 & \\frac{1}{4} & 0 \\\\\n",
       "\\frac{1}{2} & 0 & 0 \\\\\n",
       "-1 & \\frac{14}{3} & -\\frac{8}{3}\n",
       "\\end{array}\\right)\\)</html>"
      ],
      "text/latex": [
       "$\\displaystyle \\left(\\begin{array}{rrr}\n",
       "0 & \\frac{1}{4} & 0 \\\\\n",
       "\\frac{1}{2} & 0 & 0 \\\\\n",
       "-1 & \\frac{14}{3} & -\\frac{8}{3}\n",
       "\\end{array}\\right)$"
      ],
      "text/plain": [
       "[   0  1/4    0]\n",
       "[ 1/2    0    0]\n",
       "[  -1 14/3 -8/3]"
      ]
     },
     "metadata": {},
     "output_type": "display_data"
    },
    {
     "data": {
      "text/html": [
       "<html>\\(\\displaystyle \\verb|Test,|\\verb| |\\verb|that|\\verb| |\\verb|E|\\verb| |\\verb|*|\\verb| |\\verb|A|\\verb| |\\verb|=|\\verb| |\\verb|A'|\\verb| |\\verb|is|\\verb| |\\verb|true|\\)</html>"
      ],
      "text/latex": [
       "$\\displaystyle \\verb|Test,|\\verb| |\\verb|that|\\verb| |\\verb|E|\\verb| |\\verb|*|\\verb| |\\verb|A|\\verb| |\\verb|=|\\verb| |\\verb|A'|\\verb| |\\verb|is|\\verb| |\\verb|true|$"
      ],
      "text/plain": [
       "\"Test, that E * A = A' is true\""
      ]
     },
     "metadata": {},
     "output_type": "display_data"
    },
    {
     "data": {
      "text/html": [
       "<html>\\(\\displaystyle \\mathrm{True}\\)</html>"
      ],
      "text/latex": [
       "$\\displaystyle \\mathrm{True}$"
      ],
      "text/plain": [
       "True"
      ]
     },
     "metadata": {},
     "output_type": "display_data"
    }
   ],
   "source": [
    "show(\"Matrix A', the row echelon form of A:\")\n",
    "show(M)\n",
    "\n",
    "show(\"Matrix E, with A' = E * A:\")\n",
    "show(E)\n",
    "\n",
    "show(\"Test, that E * A = A' is true\")\n",
    "show(E*A==M)"
   ]
  },
  {
   "cell_type": "code",
   "execution_count": 7,
   "metadata": {
    "tags": []
   },
   "outputs": [
    {
     "data": {
      "text/latex": [
       "$R_{1} \\leftrightarrow R_{2}$\n",
       "\n",
       " $ \\frac{1}{4} R_{ 1 } \\rightarrow R_{ 1 }$ \n",
       "\n",
       " $ 0 R_{ 1 } \\rightarrow R_{ 2 }$ \n",
       "\n",
       " $ -7 R_{ 1 } \\rightarrow R_{ 3 }$ \n",
       "\n",
       " $ \\frac{1}{2} R_{ 2 } \\rightarrow R_{ 2 }$ \n",
       "\n",
       " $ \\frac{3}{4} R_{ 2 } \\rightarrow R_{ 3 }$ \n",
       "\n",
       " $ -\\frac{8}{3} R_{ 3 } \\rightarrow R_{ 3 }$ \n",
       "\n"
      ],
      "text/plain": [
       "<IPython.core.display.Latex object>"
      ]
     },
     "execution_count": 7,
     "metadata": {},
     "output_type": "execute_result"
    }
   ],
   "source": [
    "# show the operations that have been used\n",
    "op_total = \"\"\n",
    "\n",
    "for op in operations:\n",
    "    op_total += (op + \"\\n\\n\")\n",
    "\n",
    "tex(op_total)"
   ]
  }
 ],
 "metadata": {
  "kernelspec": {
   "display_name": "SageMath 9.8",
   "language": "sage",
   "name": "sagemath-9.8"
  },
  "language_info": {
   "codemirror_mode": {
    "name": "ipython",
    "version": 3
   },
   "file_extension": ".py",
   "mimetype": "text/x-python",
   "name": "python",
   "nbconvert_exporter": "python",
   "pygments_lexer": "ipython3",
   "version": "3.11.1"
  }
 },
 "nbformat": 4,
 "nbformat_minor": 4
}
