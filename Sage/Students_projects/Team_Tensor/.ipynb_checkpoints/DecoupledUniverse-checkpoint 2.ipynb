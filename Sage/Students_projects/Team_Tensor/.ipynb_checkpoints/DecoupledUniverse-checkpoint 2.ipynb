{
 "cells": [
  {
   "cell_type": "markdown",
   "metadata": {},
   "source": [
    "# Decoupling Coupled Harmonic Oscillators\n",
    "\n",
    "by: Tianming Zhao, Ximeng Song"
   ]
  },
  {
   "cell_type": "markdown",
   "metadata": {},
   "source": [
    "## Introduction\n",
    "\n",
    "\n",
    "Harmonic Oscillators are one of the foundations of Physics as a whole. Many physical problems can be traced back to this basic solution. Though some are easier to solve, such as the mathematical pendulum, and others are much more complex. Most notably, Harmonic Oscillators may be coupled, which means that the parameters of one harmonic oscialltor influences the equations of motion of other harmonic oscillators. Though that does mean there are more equations and variables to solve, but as most systems of equations, these ones can also be simplified through the use of matrices.\n",
    "\n",
    "This is where SageMath comes in. We will be using SageMath as a tool to decouple Harmonic Oscillators by finding generalized coordinates. Since only basic matrix operations will be needed, using SageMath is a effective way to shorten the calculation processes required. Though, as we will see, certain complications do arise when using SageMath's usual built in functions."
   ]
  },
  {
   "cell_type": "markdown",
   "metadata": {},
   "source": [
    "## The Physics\n",
    "\n",
    "An ideal system in motion usually has two types of energy: Kinetic energy and potential energy. The most important fact is that the total energy remains constant. But because we are observing coupled harmonic oscillators, there will be multiple kinetic energies and multiple potential energies to consider. These will influence each other in more complex ways than the classic harmonic oscillator, since only the overall energy of all energies added together reamins constant.\n",
    "\n",
    "These influences between the masses can be represented by a matrix, as we will show in the following."
   ]
  },
  {
   "cell_type": "markdown",
   "metadata": {},
   "source": [
    "## Formulas:\n",
    "\n",
    "#### Kinetic Energy\n",
    "\n",
    "$T = \\frac{1}{2} mv^2$\n",
    "\n",
    "#### Potential Energy\n",
    "\n",
    "$V = \\frac{1}{2} kx^2$\n",
    "\n",
    "\n",
    "#### General matrix form:\n",
    "\n",
    "$T = \\frac{1}{2}\\dot{\\vec{q}}^\\intercal\\mathcal{T}\\dot{\\vec{q}} $\n",
    "\n",
    "$V = \\frac{1}{2}\\vec{q}^\\intercal\\mathcal{V}\\vec{q} $"
   ]
  },
  {
   "cell_type": "markdown",
   "metadata": {},
   "source": [
    "## Example Problem:\n",
    "\n",
    "#### Kinetic Energy:\n",
    "$T = \\frac{1}{2}m(\\dot{q_1}^2+\\dot{q_2}^2)$\n",
    "\n",
    "#### Potential Energy\n",
    "$V = \\frac{1}{2}k(q_1^2+q_2^2)+\\frac{1}{2}k_{12}(q_2-q_1)^2$\n",
    "\n",
    "#### General matrix form:\n",
    "$T = \\frac{1}{2}\\dot{\\vec{q}}^\\intercal\\begin{pmatrix}\n",
    "        m & 0 \\\\\n",
    "        0 & m \\\\\n",
    "    \\end{pmatrix}\\dot{\\vec{q}}$\n",
    "    \n",
    "$V = \\frac{1}{2}\\vec{q}^\\intercal\\begin{pmatrix}\n",
    "        k+k_{12} & -k_{12} \\\\\n",
    "        -k_{12} & k+k_{12} \\\\\n",
    "    \\end{pmatrix}\\vec{q}$"
   ]
  },
  {
   "cell_type": "code",
   "execution_count": 1,
   "metadata": {
    "tags": []
   },
   "outputs": [
    {
     "data": {
      "text/html": [
       "<html>\\(\\displaystyle \\left(\\begin{array}{rr}\n",
       "m & 0 \\\\\n",
       "0 & m\n",
       "\\end{array}\\right)\\)</html>"
      ],
      "text/latex": [
       "$\\displaystyle \\left(\\begin{array}{rr}\n",
       "m & 0 \\\\\n",
       "0 & m\n",
       "\\end{array}\\right)$"
      ],
      "text/plain": [
       "[m 0]\n",
       "[0 m]"
      ]
     },
     "metadata": {},
     "output_type": "display_data"
    },
    {
     "data": {
      "text/html": [
       "<html>\\(\\displaystyle \\left(\\begin{array}{rr}\n",
       "k + k_{12} & -k_{12} \\\\\n",
       "-k_{12} & k + k_{12}\n",
       "\\end{array}\\right)\\)</html>"
      ],
      "text/latex": [
       "$\\displaystyle \\left(\\begin{array}{rr}\n",
       "k + k_{12} & -k_{12} \\\\\n",
       "-k_{12} & k + k_{12}\n",
       "\\end{array}\\right)$"
      ],
      "text/plain": [
       "[k + k12    -k12]\n",
       "[   -k12 k + k12]"
      ]
     },
     "metadata": {},
     "output_type": "display_data"
    }
   ],
   "source": [
    "# input\n",
    "var('m', 'k', 'k12', 't')\n",
    "di = 2\n",
    "T = matrix(SR, di, di, [m, 0,\n",
    "                        0, m])\n",
    "show(T)\n",
    "V = matrix(SR, di, di, [k + k12, -k12,\n",
    "                        -k12, k + k12])\n",
    "show(V)"
   ]
  },
  {
   "cell_type": "code",
   "execution_count": 2,
   "metadata": {
    "tags": []
   },
   "outputs": [
    {
     "data": {
      "text/html": [
       "<html>\\(\\displaystyle \\left(\\begin{array}{r}\n",
       "\\frac{1}{2} \\, \\mathit{dq}_{1}^{2} m + \\frac{1}{2} \\, \\mathit{dq}_{2}^{2} m\n",
       "\\end{array}\\right)\\)</html>"
      ],
      "text/latex": [
       "$\\displaystyle \\left(\\begin{array}{r}\n",
       "\\frac{1}{2} \\, \\mathit{dq}_{1}^{2} m + \\frac{1}{2} \\, \\mathit{dq}_{2}^{2} m\n",
       "\\end{array}\\right)$"
      ],
      "text/plain": [
       "[1/2*dq1^2*m + 1/2*dq2^2*m]"
      ]
     },
     "metadata": {},
     "output_type": "display_data"
    },
    {
     "data": {
      "text/html": [
       "<html>\\(\\displaystyle \\left(\\begin{array}{r}\n",
       "\\frac{1}{2} \\, {\\left(k + k_{12}\\right)} q_{1}^{2} - k_{12} q_{1} q_{2} + \\frac{1}{2} \\, {\\left(k + k_{12}\\right)} q_{2}^{2}\n",
       "\\end{array}\\right)\\)</html>"
      ],
      "text/latex": [
       "$\\displaystyle \\left(\\begin{array}{r}\n",
       "\\frac{1}{2} \\, {\\left(k + k_{12}\\right)} q_{1}^{2} - k_{12} q_{1} q_{2} + \\frac{1}{2} \\, {\\left(k + k_{12}\\right)} q_{2}^{2}\n",
       "\\end{array}\\right)$"
      ],
      "text/plain": [
       "[1/2*(k + k12)*q1^2 - k12*q1*q2 + 1/2*(k + k12)*q2^2]"
      ]
     },
     "metadata": {},
     "output_type": "display_data"
    }
   ],
   "source": [
    "# proof of concept\n",
    "var('dq1', 'dq2', 'q1', 'q2')\n",
    "dq = column_matrix(SR, [dq1, dq2])\n",
    "q = column_matrix(SR, [q1, q2])\n",
    "show(1/2*dq.transpose()*T*dq)\n",
    "show((1/2*q.transpose()*V*q).simplify_full())"
   ]
  },
  {
   "cell_type": "markdown",
   "metadata": {},
   "source": [
    "To solve the decouple the Coupled Harmonic Oscillator, we need the eigenvalues of $\\mathcal{V}$ in respect to $\\mathcal{T}$. This proves to be more of a challenge than usual, since SageMath built in functions such as eigenvalues() do not support eigenvalues in respect matrices other than the identity matrix.\n",
    "\n",
    "This means we need to go through the steps of calculating eigenvalues from scratch, only using basic functions while doing so."
   ]
  },
  {
   "cell_type": "code",
   "execution_count": 3,
   "metadata": {
    "tags": []
   },
   "outputs": [
    {
     "data": {
      "text/html": [
       "<html>\\(\\displaystyle {\\left(m t - k - k_{12}\\right)}^{2} - k_{12}^{2}\\)</html>"
      ],
      "text/latex": [
       "$\\displaystyle {\\left(m t - k - k_{12}\\right)}^{2} - k_{12}^{2}$"
      ],
      "text/plain": [
       "(m*t - k - k12)^2 - k12^2"
      ]
     },
     "metadata": {},
     "output_type": "display_data"
    },
    {
     "data": {
      "text/html": [
       "<html>\\(\\displaystyle \\left[\\left(\\frac{k + 2 \\, k_{12}}{m}, 1\\right), \\left(\\frac{k}{m}, 1\\right)\\right]\\)</html>"
      ],
      "text/latex": [
       "$\\displaystyle \\left[\\left(\\frac{k + 2 \\, k_{12}}{m}, 1\\right), \\left(\\frac{k}{m}, 1\\right)\\right]$"
      ],
      "text/plain": [
       "[((k + 2*k12)/m, 1), (k/m, 1)]"
      ]
     },
     "metadata": {},
     "output_type": "display_data"
    }
   ],
   "source": [
    "M = V-t*T\n",
    "P = M.determinant()\n",
    "show(P)\n",
    "l = P.roots(t)\n",
    "show(l)"
   ]
  },
  {
   "cell_type": "markdown",
   "metadata": {},
   "source": [
    "This solves part of the equations already, since the eigenvalues are the squared resonance frequencies.\n",
    "The new equations are now\n",
    "\n",
    "$\\ddot{\\xi_k}+\\lambda_k\\xi _k = 0$,\n",
    "\n",
    "where $\\lambda_k$ are the eigenvalues that we have just calculated, and $\\xi_k$ are the components of the generalized coordinate $\\vec{\\xi}$.\n",
    "\n",
    "Most importantly, $\\xi_k$ are decoupled from each other which means that these equations are homogenous differential equations of the second order with known solutions, namely  exponential functions. \n",
    "\n",
    "Now the only missing equation to finally find out the decoupled equations of movement is the relationship between $\\vec{q}$ and $\\vec{\\xi}$. The first step to archive this is to calculate the eigenvectors of $\\mathcal{V}$ in respect to $\\mathcal{T}$."
   ]
  },
  {
   "cell_type": "code",
   "execution_count": 4,
   "metadata": {
    "tags": []
   },
   "outputs": [
    {
     "data": {
      "text/html": [
       "<html>\\(\\displaystyle \\left[\\left(\\begin{array}{r}\n",
       "1 \\\\\n",
       "-1\n",
       "\\end{array}\\right), \\left(\\begin{array}{r}\n",
       "1 \\\\\n",
       "1\n",
       "\\end{array}\\right)\\right]\\)</html>"
      ],
      "text/latex": [
       "$\\displaystyle \\left[\\left(\\begin{array}{r}\n",
       "1 \\\\\n",
       "-1\n",
       "\\end{array}\\right), \\left(\\begin{array}{r}\n",
       "1 \\\\\n",
       "1\n",
       "\\end{array}\\right)\\right]$"
      ],
      "text/plain": [
       "[\n",
       "[ 1]  [1]\n",
       "[-1], [1]\n",
       "]"
      ]
     },
     "metadata": {},
     "output_type": "display_data"
    }
   ],
   "source": [
    "base = []\n",
    "for val in l:\n",
    "    R = V-val[0]*T\n",
    "    for x in R.right_kernel().basis():\n",
    "        base.append(matrix(x.simplify_full()).transpose())\n",
    "show(base)"
   ]
  },
  {
   "cell_type": "markdown",
   "metadata": {},
   "source": [
    "Furthermore, the eigenvectors need to be normalized in respect to $\\mathcal{T}$ as well, which SageMath does not support either. Once again, we need to use the basic mathematical concept to do so."
   ]
  },
  {
   "cell_type": "code",
   "execution_count": 5,
   "metadata": {
    "tags": []
   },
   "outputs": [
    {
     "data": {
      "text/html": [
       "<html>\\(\\displaystyle \\left[\\left(\\begin{array}{r}\n",
       "\\frac{\\sqrt{2}}{2 \\, \\sqrt{m}} \\\\\n",
       "-\\frac{\\sqrt{2}}{2 \\, \\sqrt{m}}\n",
       "\\end{array}\\right), \\left(\\begin{array}{r}\n",
       "\\frac{\\sqrt{2}}{2 \\, \\sqrt{m}} \\\\\n",
       "\\frac{\\sqrt{2}}{2 \\, \\sqrt{m}}\n",
       "\\end{array}\\right)\\right]\\)</html>"
      ],
      "text/latex": [
       "$\\displaystyle \\left[\\left(\\begin{array}{r}\n",
       "\\frac{\\sqrt{2}}{2 \\, \\sqrt{m}} \\\\\n",
       "-\\frac{\\sqrt{2}}{2 \\, \\sqrt{m}}\n",
       "\\end{array}\\right), \\left(\\begin{array}{r}\n",
       "\\frac{\\sqrt{2}}{2 \\, \\sqrt{m}} \\\\\n",
       "\\frac{\\sqrt{2}}{2 \\, \\sqrt{m}}\n",
       "\\end{array}\\right)\\right]$"
      ],
      "text/plain": [
       "[\n",
       "[ 1/2*sqrt(2)/sqrt(m)]  [1/2*sqrt(2)/sqrt(m)]\n",
       "[-1/2*sqrt(2)/sqrt(m)], [1/2*sqrt(2)/sqrt(m)]\n",
       "]"
      ]
     },
     "metadata": {},
     "output_type": "display_data"
    }
   ],
   "source": [
    "norm_eig_vec = []\n",
    "for b in base:\n",
    "    norm = b.transpose()*T*b\n",
    "    norm_eig_vec.append((norm[0,0]**(-1/2)*b).simplify_full())\n",
    "show(norm_eig_vec)"
   ]
  },
  {
   "cell_type": "markdown",
   "metadata": {},
   "source": [
    "These normalized eigenvectors form the base transformation matrix that is orthonormal in respect to $\\mathcal{T}$, and diagonalizes $\\mathcal{V}$. Which means that it does not change the physical quantities. We will call this matrix $\\overline{\\mathcal{B}}$."
   ]
  },
  {
   "cell_type": "code",
   "execution_count": 6,
   "metadata": {
    "tags": []
   },
   "outputs": [
    {
     "data": {
      "text/html": [
       "<html>\\(\\displaystyle \\left(\\begin{array}{rr}\n",
       "\\frac{\\sqrt{2}}{2 \\, \\sqrt{m}} & \\frac{\\sqrt{2}}{2 \\, \\sqrt{m}} \\\\\n",
       "-\\frac{\\sqrt{2}}{2 \\, \\sqrt{m}} & \\frac{\\sqrt{2}}{2 \\, \\sqrt{m}}\n",
       "\\end{array}\\right)\\)</html>"
      ],
      "text/latex": [
       "$\\displaystyle \\left(\\begin{array}{rr}\n",
       "\\frac{\\sqrt{2}}{2 \\, \\sqrt{m}} & \\frac{\\sqrt{2}}{2 \\, \\sqrt{m}} \\\\\n",
       "-\\frac{\\sqrt{2}}{2 \\, \\sqrt{m}} & \\frac{\\sqrt{2}}{2 \\, \\sqrt{m}}\n",
       "\\end{array}\\right)$"
      ],
      "text/plain": [
       "[ 1/2*sqrt(2)/sqrt(m)  1/2*sqrt(2)/sqrt(m)]\n",
       "[-1/2*sqrt(2)/sqrt(m)  1/2*sqrt(2)/sqrt(m)]"
      ]
     },
     "metadata": {},
     "output_type": "display_data"
    }
   ],
   "source": [
    "B_ = matrix(SR, di, di, [i[0] for col in norm_eig_vec for i in col]).transpose()\n",
    "show(B_)"
   ]
  },
  {
   "cell_type": "markdown",
   "metadata": {},
   "source": [
    "To proof that this is indeed the case, we show that $\\overline{\\mathcal{B}}^\\intercal\\mathcal{T}\\overline{\\mathcal{B}}$ is the identity matrix, and that $\\overline{\\mathcal{B}}^{\\intercal^{-1}}\\overline{\\mathcal{B}}^{-1}$ is $\\mathcal{T}$."
   ]
  },
  {
   "cell_type": "code",
   "execution_count": 7,
   "metadata": {
    "tags": []
   },
   "outputs": [
    {
     "data": {
      "text/html": [
       "<html>\\(\\displaystyle \\left(\\begin{array}{rr}\n",
       "1 & 0 \\\\\n",
       "0 & 1\n",
       "\\end{array}\\right)\\)</html>"
      ],
      "text/latex": [
       "$\\displaystyle \\left(\\begin{array}{rr}\n",
       "1 & 0 \\\\\n",
       "0 & 1\n",
       "\\end{array}\\right)$"
      ],
      "text/plain": [
       "[1 0]\n",
       "[0 1]"
      ]
     },
     "metadata": {},
     "output_type": "display_data"
    },
    {
     "data": {
      "text/html": [
       "<html>\\(\\displaystyle \\left(\\begin{array}{rr}\n",
       "m & 0 \\\\\n",
       "0 & m\n",
       "\\end{array}\\right)\\)</html>"
      ],
      "text/latex": [
       "$\\displaystyle \\left(\\begin{array}{rr}\n",
       "m & 0 \\\\\n",
       "0 & m\n",
       "\\end{array}\\right)$"
      ],
      "text/plain": [
       "[m 0]\n",
       "[0 m]"
      ]
     },
     "metadata": {},
     "output_type": "display_data"
    }
   ],
   "source": [
    "# proof of concept\n",
    "show((B_.transpose()*T*B_).simplify_full())\n",
    "show((B_.transpose().inverse()*B_.inverse()).simplify_full())"
   ]
  },
  {
   "cell_type": "markdown",
   "metadata": {},
   "source": [
    "Since $\\overline{\\mathcal{B}}^\\intercal\\mathcal{T}\\overline{\\mathcal{B}}$ is the identity matrix and $\\vec{\\xi}$ is the generalized coordinate, we can now combine this with the general matrix from to obtain\n",
    "\n",
    "$T = \\frac{1}{2}\\dot{\\vec{q}}^\\intercal\\mathcal{T}\\dot{\\vec{q}} = \\frac{1}{2}\\dot{\\vec{\\xi}}^\\intercal\\dot{\\vec{\\xi}} = \\frac{1}{2}\\dot{\\vec{\\xi}}^\\intercal\\overline{\\mathcal{B}}^\\intercal\\mathcal{T}\\overline{\\mathcal{B}}\\dot{\\vec{\\xi}}$\n",
    "\n",
    "and thus\n",
    "\n",
    "$\\vec{q} = \\overline{\\mathcal{B}}\\vec{\\xi}$.\n",
    "\n",
    "We now show how $\\overline{\\mathcal{B}}$ describes the relation between $\\vec{q}$ and $\\vec{\\xi}$ for this example."
   ]
  },
  {
   "cell_type": "code",
   "execution_count": 8,
   "metadata": {
    "tags": []
   },
   "outputs": [
    {
     "data": {
      "text/html": [
       "<html>\\(\\displaystyle \\left(\\begin{array}{r}\n",
       "\\frac{1}{2} \\, \\sqrt{2} \\sqrt{m} q_{1} - \\frac{1}{2} \\, \\sqrt{2} \\sqrt{m} q_{2} \\\\\n",
       "\\frac{1}{2} \\, \\sqrt{2} \\sqrt{m} q_{1} + \\frac{1}{2} \\, \\sqrt{2} \\sqrt{m} q_{2}\n",
       "\\end{array}\\right)\\)</html>"
      ],
      "text/latex": [
       "$\\displaystyle \\left(\\begin{array}{r}\n",
       "\\frac{1}{2} \\, \\sqrt{2} \\sqrt{m} q_{1} - \\frac{1}{2} \\, \\sqrt{2} \\sqrt{m} q_{2} \\\\\n",
       "\\frac{1}{2} \\, \\sqrt{2} \\sqrt{m} q_{1} + \\frac{1}{2} \\, \\sqrt{2} \\sqrt{m} q_{2}\n",
       "\\end{array}\\right)$"
      ],
      "text/plain": [
       "[1/2*sqrt(2)*sqrt(m)*q1 - 1/2*sqrt(2)*sqrt(m)*q2]\n",
       "[1/2*sqrt(2)*sqrt(m)*q1 + 1/2*sqrt(2)*sqrt(m)*q2]"
      ]
     },
     "metadata": {},
     "output_type": "display_data"
    }
   ],
   "source": [
    "# proof of concept\n",
    "xi = B_.inverse()*q\n",
    "show(xi)"
   ]
  },
  {
   "cell_type": "code",
   "execution_count": 9,
   "metadata": {
    "tags": []
   },
   "outputs": [
    {
     "data": {
      "text/html": [
       "<html>\\(\\displaystyle \\left(\\begin{array}{r}\n",
       "\\frac{\\sqrt{2} \\xi_{1}}{2 \\, \\sqrt{m}} + \\frac{\\sqrt{2} \\xi_{2}}{2 \\, \\sqrt{m}} \\\\\n",
       "-\\frac{\\sqrt{2} \\xi_{1}}{2 \\, \\sqrt{m}} + \\frac{\\sqrt{2} \\xi_{2}}{2 \\, \\sqrt{m}}\n",
       "\\end{array}\\right)\\)</html>"
      ],
      "text/latex": [
       "$\\displaystyle \\left(\\begin{array}{r}\n",
       "\\frac{\\sqrt{2} \\xi_{1}}{2 \\, \\sqrt{m}} + \\frac{\\sqrt{2} \\xi_{2}}{2 \\, \\sqrt{m}} \\\\\n",
       "-\\frac{\\sqrt{2} \\xi_{1}}{2 \\, \\sqrt{m}} + \\frac{\\sqrt{2} \\xi_{2}}{2 \\, \\sqrt{m}}\n",
       "\\end{array}\\right)$"
      ],
      "text/plain": [
       "[ 1/2*sqrt(2)*xi1/sqrt(m) + 1/2*sqrt(2)*xi2/sqrt(m)]\n",
       "[-1/2*sqrt(2)*xi1/sqrt(m) + 1/2*sqrt(2)*xi2/sqrt(m)]"
      ]
     },
     "metadata": {},
     "output_type": "display_data"
    }
   ],
   "source": [
    "# proof of concept\n",
    "var('xi1', 'xi2')\n",
    "xi = column_matrix(SR, [xi1, xi2])\n",
    "show(B_*xi)"
   ]
  },
  {
   "cell_type": "code",
   "execution_count": null,
   "metadata": {},
   "outputs": [],
   "source": []
  }
 ],
 "metadata": {
  "kernelspec": {
   "display_name": "SageMath 9.8",
   "language": "sage",
   "name": "sagemath-9.8"
  },
  "language_info": {
   "codemirror_mode": {
    "name": "ipython",
    "version": 3
   },
   "file_extension": ".py",
   "mimetype": "text/x-python",
   "name": "python",
   "nbconvert_exporter": "python",
   "pygments_lexer": "ipython3",
   "version": "3.11.1"
  }
 },
 "nbformat": 4,
 "nbformat_minor": 4
}
